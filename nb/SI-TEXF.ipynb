{
 "cells": [
  {
   "cell_type": "markdown",
   "metadata": {},
   "source": [
    "# SI - International System of Units \n",
    "\n",
    "The domain **`SI`** (abbrev. also **`SI`**) implements *SI Units*. The standard reference for this topic is: *Bureau International des Poids et Mesures* [BIPM](http://www.bipm.org)\n",
    "\n",
    "The recommended practical system of units of measurement is the International System of Units (Système International d'Unités, with the international abbreviation SI). The SI is defined by the [SI Brochure](http://www.bipm.org/en/publications/si-brochure/), which is published by the BIPM.\n",
    "\n"
   ]
  },
  {
   "cell_type": "markdown",
   "metadata": {},
   "source": [
    "### [De] Constructors \n",
    "\n",
    "##### Base units\n",
    "\n",
    "        %m   :  Integer -> %\n",
    "        %kg  :  Integer -> %  \n",
    "        %s   :  Integer -> %\n",
    "        %A   :  Integer -> %\n",
    "        %K   :  Integer -> %  \n",
    "        %mol :  Integer -> % \n",
    "        %cd  :  Integer -> %\n",
    "\n",
    "\n",
    "###### Compound construction/deconstructor\n",
    "\n",
    "        mksi: List(Integer) -> %\n",
    "        si2l: % -> List(Integer)\n",
    "\n",
    "##### Derived units\n",
    "\n",
    "        SI_derived : String -> %\n",
    "        \n",
    "\n",
    "To each function there is an example below. \n",
    "\n",
    "In order to use the library we have to load it:"
   ]
  },
  {
   "cell_type": "code",
   "execution_count": 1,
   "metadata": {
    "collapsed": false
   },
   "outputs": [
    {
     "name": "stdout",
     "output_type": "stream",
     "text": [
      "   SIunit is already explicitly exposed in frame initial \n",
      "   SIunit will be automatically loaded when needed from \n",
      "      /home/kfp/Development/physqty/Untitled Folder/SI.NRLIB/SI\n",
      "\n",
      "\n"
     ]
    },
    {
     "data": {
      "text/plain": []
     },
     "execution_count": 1,
     "metadata": {},
     "output_type": "execute_result"
    }
   ],
   "source": [
    ")set output tex on\n",
    ")lib SI"
   ]
  },
  {
   "cell_type": "markdown",
   "metadata": {},
   "source": [
    "## Seven Base Units"
   ]
  },
  {
   "cell_type": "markdown",
   "metadata": {},
   "source": [
    "####  Length (meter)\n",
    " \t\n",
    "The metre is the length of the path travelled by light in vacuum during a time interval of `1/299 792 458` of a second.\n",
    "\n",
    "    Symbol: m"
   ]
  },
  {
   "cell_type": "code",
   "execution_count": 2,
   "metadata": {
    "collapsed": false
   },
   "outputs": [
    {
     "name": "stdout",
     "output_type": "stream",
     "text": [
      "Warning: HyperTeX macro table not found\n"
     ]
    },
    {
     "data": {
      "text/latex": [
       "\\(\n",
       "\\def\\sp{^}\\def\\sb{_}\\def\\leqno(#1){}\n",
       "\\def\\erf{\\mathrm{erf}}\\def\\sinh{\\mathrm{sinh}}\n",
       "\\def\\zag#1#2{{{\\left.{#1}\\right|}\\over{\\left|{#2}\\right.}}}\n",
       "\\def\\csch{\\mathrm{csch}}\n",
       "\\require{color}\n",
       "\\)\n",
       "\n",
       "$$\n",
       "{{m} \\sp {1}} \n",
       "\\leqno(NIL)\n",
       "$$\n",
       "\n",
       "\n",
       "\\(\\\\[3ex]\\color{blue}\\scriptsize\\text{SIunit}\\)\n"
      ],
      "text/plain": [
       "    1\n",
       "   m\n",
       "                                                                 Type: SIunit\n"
      ]
     },
     "execution_count": 2,
     "metadata": {},
     "output_type": "execute_result"
    }
   ],
   "source": [
    "%m(1) "
   ]
  },
  {
   "cell_type": "markdown",
   "metadata": {},
   "source": [
    "#### Mass (kilogram)\n",
    "The kilogram is the unit of mass; it is equal to the mass of the international prototype of the kilogram.\n",
    "\n",
    "    Symbol: kg"
   ]
  },
  {
   "cell_type": "code",
   "execution_count": 3,
   "metadata": {
    "collapsed": false
   },
   "outputs": [
    {
     "data": {
      "text/latex": [
       "\\(\n",
       "\\def\\sp{^}\\def\\sb{_}\\def\\leqno(#1){}\n",
       "\\def\\erf{\\mathrm{erf}}\\def\\sinh{\\mathrm{sinh}}\n",
       "\\def\\zag#1#2{{{\\left.{#1}\\right|}\\over{\\left|{#2}\\right.}}}\n",
       "\\def\\csch{\\mathrm{csch}}\n",
       "\\require{color}\n",
       "\\)\n",
       "\n",
       "$$\n",
       "{{kg} \\sp {1}} \n",
       "\\leqno(NIL)\n",
       "$$\n",
       "\n",
       "\n",
       "\\(\\\\[3ex]\\color{blue}\\scriptsize\\text{SIunit}\\)\n"
      ],
      "text/plain": [
       "     1\n",
       "   kg\n",
       "                                                                 Type: SIunit\n"
      ]
     },
     "execution_count": 3,
     "metadata": {},
     "output_type": "execute_result"
    }
   ],
   "source": [
    "%kg(1)"
   ]
  },
  {
   "cell_type": "markdown",
   "metadata": {},
   "source": [
    "####  Time (second)\n",
    " \t\n",
    "The second is the duration of `9 192 631 770` periods of the radiation corresponding to the transition between the two hyperfine levels of the ground state of the caesium `133` atom.\n",
    "\n",
    "    Symbol: s"
   ]
  },
  {
   "cell_type": "code",
   "execution_count": 4,
   "metadata": {
    "collapsed": false
   },
   "outputs": [
    {
     "data": {
      "text/latex": [
       "\\(\n",
       "\\def\\sp{^}\\def\\sb{_}\\def\\leqno(#1){}\n",
       "\\def\\erf{\\mathrm{erf}}\\def\\sinh{\\mathrm{sinh}}\n",
       "\\def\\zag#1#2{{{\\left.{#1}\\right|}\\over{\\left|{#2}\\right.}}}\n",
       "\\def\\csch{\\mathrm{csch}}\n",
       "\\require{color}\n",
       "\\)\n",
       "\n",
       "$$\n",
       "{{s} \\sp {1}} \n",
       "\\leqno(NIL)\n",
       "$$\n",
       "\n",
       "\n",
       "\\(\\\\[3ex]\\color{blue}\\scriptsize\\text{SIunit}\\)\n"
      ],
      "text/plain": [
       "    1\n",
       "   s\n",
       "                                                                 Type: SIunit\n"
      ]
     },
     "execution_count": 4,
     "metadata": {},
     "output_type": "execute_result"
    }
   ],
   "source": [
    "%s(1)"
   ]
  },
  {
   "cell_type": "markdown",
   "metadata": {},
   "source": [
    "#### Electric current (ampere)\n",
    "The ampere is that constant current which, if maintained in two straight parallel conductors of infinite length, of negligible circular cross-section, and placed 1 m apart in vacuum, would produce between these conductors a force equal to 2 x 10–7 newton per metre of length.\n",
    "\n",
    "    Symbol: A"
   ]
  },
  {
   "cell_type": "code",
   "execution_count": 5,
   "metadata": {
    "collapsed": false
   },
   "outputs": [
    {
     "data": {
      "text/latex": [
       "\\(\n",
       "\\def\\sp{^}\\def\\sb{_}\\def\\leqno(#1){}\n",
       "\\def\\erf{\\mathrm{erf}}\\def\\sinh{\\mathrm{sinh}}\n",
       "\\def\\zag#1#2{{{\\left.{#1}\\right|}\\over{\\left|{#2}\\right.}}}\n",
       "\\def\\csch{\\mathrm{csch}}\n",
       "\\require{color}\n",
       "\\)\n",
       "\n",
       "$$\n",
       "{{A} \\sp {1}} \n",
       "\\leqno(NIL)\n",
       "$$\n",
       "\n",
       "\n",
       "\\(\\\\[3ex]\\color{blue}\\scriptsize\\text{SIunit}\\)\n"
      ],
      "text/plain": [
       "    1\n",
       "   A\n",
       "                                                                 Type: SIunit\n"
      ]
     },
     "execution_count": 5,
     "metadata": {},
     "output_type": "execute_result"
    }
   ],
   "source": [
    "%A(1)"
   ]
  },
  {
   "cell_type": "markdown",
   "metadata": {},
   "source": [
    "####  Thermodynamic temperature (kelvin)\n",
    "The kelvin, unit of thermodynamic temperature, is the fraction 1/273.16 of the thermodynamic temperature of the triple point of water.\n",
    "\n",
    "    Symbol: K"
   ]
  },
  {
   "cell_type": "code",
   "execution_count": 6,
   "metadata": {
    "collapsed": false
   },
   "outputs": [
    {
     "data": {
      "text/latex": [
       "\\(\n",
       "\\def\\sp{^}\\def\\sb{_}\\def\\leqno(#1){}\n",
       "\\def\\erf{\\mathrm{erf}}\\def\\sinh{\\mathrm{sinh}}\n",
       "\\def\\zag#1#2{{{\\left.{#1}\\right|}\\over{\\left|{#2}\\right.}}}\n",
       "\\def\\csch{\\mathrm{csch}}\n",
       "\\require{color}\n",
       "\\)\n",
       "\n",
       "$$\n",
       "{{K} \\sp {1}} \n",
       "\\leqno(NIL)\n",
       "$$\n",
       "\n",
       "\n",
       "\\(\\\\[3ex]\\color{blue}\\scriptsize\\text{SIunit}\\)\n"
      ],
      "text/plain": [
       "    1\n",
       "   K\n",
       "                                                                 Type: SIunit\n"
      ]
     },
     "execution_count": 6,
     "metadata": {},
     "output_type": "execute_result"
    }
   ],
   "source": [
    "%K(1)"
   ]
  },
  {
   "cell_type": "markdown",
   "metadata": {},
   "source": [
    "#### Amount of substance (mol)\n",
    "\n",
    "* The mole is the amount of substance of a system which contains as many elementary entities as there are atoms in 0.012 kilogram of carbon 12.\n",
    "* When the mole is used, the elementary entities must be specified and may be atoms, molecules, ions, electrons, other particles, or specified groups of such particles.\n",
    "\n",
    "    `Symbol: mol`"
   ]
  },
  {
   "cell_type": "code",
   "execution_count": 7,
   "metadata": {
    "collapsed": false
   },
   "outputs": [
    {
     "data": {
      "text/latex": [
       "\\(\n",
       "\\def\\sp{^}\\def\\sb{_}\\def\\leqno(#1){}\n",
       "\\def\\erf{\\mathrm{erf}}\\def\\sinh{\\mathrm{sinh}}\n",
       "\\def\\zag#1#2{{{\\left.{#1}\\right|}\\over{\\left|{#2}\\right.}}}\n",
       "\\def\\csch{\\mathrm{csch}}\n",
       "\\require{color}\n",
       "\\)\n",
       "\n",
       "$$\n",
       "{{mol} \\sp {1}} \n",
       "\\leqno(NIL)\n",
       "$$\n",
       "\n",
       "\n",
       "\\(\\\\[3ex]\\color{blue}\\scriptsize\\text{SIunit}\\)\n"
      ],
      "text/plain": [
       "      1\n",
       "   mol\n",
       "                                                                 Type: SIunit\n"
      ]
     },
     "execution_count": 7,
     "metadata": {},
     "output_type": "execute_result"
    }
   ],
   "source": [
    "%mol(1)"
   ]
  },
  {
   "cell_type": "markdown",
   "metadata": {},
   "source": [
    "####  Luminous intensity (candela)\n",
    " \t\n",
    "The candela is the luminous intensity, in a given direction, of a source that emits monochromatic radiation of frequency 540 x $10^{12}$ hertz and that has a radiant intensity in that direction of 1/683 watt per steradian.\n",
    "\n",
    "    Symbol: cd"
   ]
  },
  {
   "cell_type": "code",
   "execution_count": 8,
   "metadata": {
    "collapsed": false
   },
   "outputs": [
    {
     "data": {
      "text/latex": [
       "\\(\n",
       "\\def\\sp{^}\\def\\sb{_}\\def\\leqno(#1){}\n",
       "\\def\\erf{\\mathrm{erf}}\\def\\sinh{\\mathrm{sinh}}\n",
       "\\def\\zag#1#2{{{\\left.{#1}\\right|}\\over{\\left|{#2}\\right.}}}\n",
       "\\def\\csch{\\mathrm{csch}}\n",
       "\\require{color}\n",
       "\\)\n",
       "\n",
       "$$\n",
       "{{cd} \\sp {1}} \n",
       "\\leqno(NIL)\n",
       "$$\n",
       "\n",
       "\n",
       "\\(\\\\[3ex]\\color{blue}\\scriptsize\\text{SIunit}\\)\n"
      ],
      "text/plain": [
       "     1\n",
       "   cd\n",
       "                                                                 Type: SIunit\n"
      ]
     },
     "execution_count": 8,
     "metadata": {},
     "output_type": "execute_result"
    }
   ],
   "source": [
    "%cd(1)"
   ]
  },
  {
   "cell_type": "markdown",
   "metadata": {},
   "source": [
    "##### Examples"
   ]
  },
  {
   "cell_type": "code",
   "execution_count": 9,
   "metadata": {
    "collapsed": false
   },
   "outputs": [
    {
     "data": {
      "text/latex": [
       "\\(\n",
       "\\def\\sp{^}\\def\\sb{_}\\def\\leqno(#1){}\n",
       "\\def\\erf{\\mathrm{erf}}\\def\\sinh{\\mathrm{sinh}}\n",
       "\\def\\zag#1#2{{{\\left.{#1}\\right|}\\over{\\left|{#2}\\right.}}}\n",
       "\\def\\csch{\\mathrm{csch}}\n",
       "\\require{color}\n",
       "\\)\n",
       "\n",
       "$$\n",
       "{{m} \\sp {3}} \n",
       "\\leqno(NIL)\n",
       "$$\n",
       "\n",
       "\n",
       "\\(\\\\[3ex]\\color{blue}\\scriptsize\\text{SIunit}\\)\n"
      ],
      "text/plain": [
       "    3\n",
       "   m\n",
       "                                                                 Type: SIunit\n"
      ]
     },
     "execution_count": 9,
     "metadata": {},
     "output_type": "execute_result"
    }
   ],
   "source": [
    "-- Volume (cubic meter)\n",
    "%m(3)"
   ]
  },
  {
   "cell_type": "code",
   "execution_count": 10,
   "metadata": {
    "collapsed": false
   },
   "outputs": [
    {
     "data": {
      "text/latex": [
       "\\(\n",
       "\\def\\sp{^}\\def\\sb{_}\\def\\leqno(#1){}\n",
       "\\def\\erf{\\mathrm{erf}}\\def\\sinh{\\mathrm{sinh}}\n",
       "\\def\\zag#1#2{{{\\left.{#1}\\right|}\\over{\\left|{#2}\\right.}}}\n",
       "\\def\\csch{\\mathrm{csch}}\n",
       "\\require{color}\n",
       "\\)\n",
       "\n",
       "$$\n",
       "{{{{m} \\sp {1}}}{{kg} \\sp {1}}}{{s} \\sp {-2}} \n",
       "\\leqno(NIL)\n",
       "$$\n",
       "\n",
       "\n",
       "\\(\\\\[3ex]\\color{blue}\\scriptsize\\text{SIunit}\\)\n"
      ],
      "text/plain": [
       "    1  1 - 2\n",
       "   m kg s\n",
       "                                                                 Type: SIunit\n"
      ]
     },
     "execution_count": 10,
     "metadata": {},
     "output_type": "execute_result"
    }
   ],
   "source": [
    "-- Force (newton)\n",
    "F:=%kg(1)*%m(1)*%s(-2)"
   ]
  },
  {
   "cell_type": "code",
   "execution_count": 11,
   "metadata": {
    "collapsed": false
   },
   "outputs": [
    {
     "data": {
      "text/latex": [
       "\\(\n",
       "\\def\\sp{^}\\def\\sb{_}\\def\\leqno(#1){}\n",
       "\\def\\erf{\\mathrm{erf}}\\def\\sinh{\\mathrm{sinh}}\n",
       "\\def\\zag#1#2{{{\\left.{#1}\\right|}\\over{\\left|{#2}\\right.}}}\n",
       "\\def\\csch{\\mathrm{csch}}\n",
       "\\require{color}\n",
       "\\)\n",
       "\n",
       "$$\n",
       "{{{{m} \\sp {1}}}{{kg} \\sp {1}}}{{s} \\sp {-2}} \n",
       "\\leqno(NIL)\n",
       "$$\n",
       "\n",
       "\n",
       "\\(\\\\[3ex]\\color{blue}\\scriptsize\\text{SIunit}\\)\n"
      ],
      "text/plain": [
       "    1  1 - 2\n",
       "   m kg s\n",
       "                                                                 Type: SIunit\n"
      ]
     },
     "execution_count": 11,
     "metadata": {},
     "output_type": "execute_result"
    }
   ],
   "source": [
    "-- Force again, i.e. input order does not matter \n",
    "-- and %s(-2) is equivalent to divide by %s(2).\n",
    "%kg(1)/%s(2)*%m(1)"
   ]
  },
  {
   "cell_type": "markdown",
   "metadata": {},
   "source": [
    "**Note** \n",
    "\n",
    "    the output ordering is fixed: m kg s A K mol cd. This is also the order of arguments for the compound constructor **`mksi`**.\n",
    "\n",
    "## mksi\n",
    "The `mksi` (make SI) constructor creates a SI unit from a list of exponents:"
   ]
  },
  {
   "cell_type": "code",
   "execution_count": 12,
   "metadata": {
    "collapsed": false
   },
   "outputs": [
    {
     "data": {
      "text/latex": [
       "\\(\n",
       "\\def\\sp{^}\\def\\sb{_}\\def\\leqno(#1){}\n",
       "\\def\\erf{\\mathrm{erf}}\\def\\sinh{\\mathrm{sinh}}\n",
       "\\def\\zag#1#2{{{\\left.{#1}\\right|}\\over{\\left|{#2}\\right.}}}\n",
       "\\def\\csch{\\mathrm{csch}}\n",
       "\\require{color}\n",
       "\\)\n",
       "\n",
       "$$\n",
       "{{{{m} \\sp {1}}}{{kg} \\sp {1}}}{{s} \\sp {-2}} \n",
       "\\leqno(NIL)\n",
       "$$\n",
       "\n",
       "\n",
       "\\(\\\\[3ex]\\color{blue}\\scriptsize\\text{SIunit}\\)\n"
      ],
      "text/plain": [
       "    1  1 - 2\n",
       "   m kg s\n",
       "                                                                 Type: SIunit\n"
      ]
     },
     "execution_count": 12,
     "metadata": {},
     "output_type": "execute_result"
    }
   ],
   "source": [
    "mksi [1,1,-2,0,0,0,0]"
   ]
  },
  {
   "cell_type": "code",
   "execution_count": 13,
   "metadata": {
    "collapsed": false
   },
   "outputs": [
    {
     "data": {
      "text/latex": [
       "\\(\n",
       "\\def\\sp{^}\\def\\sb{_}\\def\\leqno(#1){}\n",
       "\\def\\erf{\\mathrm{erf}}\\def\\sinh{\\mathrm{sinh}}\n",
       "\\def\\zag#1#2{{{\\left.{#1}\\right|}\\over{\\left|{#2}\\right.}}}\n",
       "\\def\\csch{\\mathrm{csch}}\n",
       "\\require{color}\n",
       "\\)\n",
       "\n",
       "$$\n",
       "{{{{m} \\sp {-1}}}{{kg} \\sp {1}}}{{s} \\sp {-2}} \n",
       "\\leqno(NIL)\n",
       "$$\n",
       "\n",
       "\n",
       "\\(\\\\[3ex]\\color{blue}\\scriptsize\\text{SIunit}\\)\n"
      ],
      "text/plain": [
       "    - 1  1 - 2\n",
       "   m   kg s\n",
       "                                                                 Type: SIunit\n"
      ]
     },
     "execution_count": 13,
     "metadata": {},
     "output_type": "execute_result"
    }
   ],
   "source": [
    "-- Lets make the unit for pressure = force/area\n",
    "p:=mksi [-1,1,-2,0,0,0,0]"
   ]
  },
  {
   "cell_type": "code",
   "execution_count": 14,
   "metadata": {
    "collapsed": false
   },
   "outputs": [
    {
     "data": {
      "text/latex": [
       "\\(\n",
       "\\def\\sp{^}\\def\\sb{_}\\def\\leqno(#1){}\n",
       "\\def\\erf{\\mathrm{erf}}\\def\\sinh{\\mathrm{sinh}}\n",
       "\\def\\zag#1#2{{{\\left.{#1}\\right|}\\over{\\left|{#2}\\right.}}}\n",
       "\\def\\csch{\\mathrm{csch}}\n",
       "\\require{color}\n",
       "\\)\n",
       "\n",
       "$$\n",
       "{{{{m} \\sp {-1}}}{{kg} \\sp {1}}}{{s} \\sp {-2}} \n",
       "\\leqno(NIL)\n",
       "$$\n",
       "\n",
       "\n",
       "\\(\\\\[3ex]\\color{blue}\\scriptsize\\text{SIunit}\\)\n"
      ],
      "text/plain": [
       "    - 1  1 - 2\n",
       "   m   kg s\n",
       "                                                                 Type: SIunit\n"
      ]
     },
     "execution_count": 14,
     "metadata": {},
     "output_type": "execute_result"
    }
   ],
   "source": [
    "-- Let's check:\n",
    "F/%m(2)"
   ]
  },
  {
   "cell_type": "code",
   "execution_count": 15,
   "metadata": {
    "collapsed": false
   },
   "outputs": [
    {
     "data": {
      "text/latex": [
       "\\(\n",
       "\\def\\sp{^}\\def\\sb{_}\\def\\leqno(#1){}\n",
       "\\def\\erf{\\mathrm{erf}}\\def\\sinh{\\mathrm{sinh}}\n",
       "\\def\\zag#1#2{{{\\left.{#1}\\right|}\\over{\\left|{#2}\\right.}}}\n",
       "\\def\\csch{\\mathrm{csch}}\n",
       "\\require{color}\n",
       "\\)\n",
       "\n",
       "$$\n",
       "{{{{{{{{m} \\sp {1}}}{{kg} \\sp {1}}}{{s} \\sp {1}}}{{A} \\sp {1}}}{{K} \\sp \n",
       "{1}}}{{mol} \\sp {1}}}{{cd} \\sp {1}} \n",
       "\\leqno(NIL)\n",
       "$$\n",
       "\n",
       "\n",
       "\\(\\\\[3ex]\\color{blue}\\scriptsize\\text{SIunit}\\)\n"
      ],
      "text/plain": [
       "    1  1 1 1 1   1  1\n",
       "   m kg s A K mol cd\n",
       "                                                                 Type: SIunit\n"
      ]
     },
     "execution_count": 15,
     "metadata": {},
     "output_type": "execute_result"
    }
   ],
   "source": [
    "mksi [1,1,1,1,1,1,1]"
   ]
  },
  {
   "cell_type": "code",
   "execution_count": 16,
   "metadata": {
    "collapsed": false
   },
   "outputs": [
    {
     "data": {
      "text/latex": [
       "\\(\n",
       "\\def\\sp{^}\\def\\sb{_}\\def\\leqno(#1){}\n",
       "\\def\\erf{\\mathrm{erf}}\\def\\sinh{\\mathrm{sinh}}\n",
       "\\def\\zag#1#2{{{\\left.{#1}\\right|}\\over{\\left|{#2}\\right.}}}\n",
       "\\def\\csch{\\mathrm{csch}}\n",
       "\\require{color}\n",
       "\\)\n",
       "\n",
       "$$\n",
       "\\leqno(NIL)\n",
       "$$\n",
       "\n",
       "\n",
       "\\(\\\\[3ex]\\color{blue}\\scriptsize\\text{SIunit}\\)\n"
      ],
      "text/plain": [
       "                                                                 Type: SIunit\n"
      ]
     },
     "execution_count": 16,
     "metadata": {},
     "output_type": "execute_result"
    }
   ],
   "source": [
    "-- the \"one\" unit\n",
    "mksi [0,0,0,0,0,0,0]"
   ]
  },
  {
   "cell_type": "markdown",
   "metadata": {},
   "source": [
    "## si2l\n",
    "\n",
    "The `si2l` function converts a SI unit to a list of its exponents, i.e. it is the reverse function of `mksi`:"
   ]
  },
  {
   "cell_type": "code",
   "execution_count": 17,
   "metadata": {
    "collapsed": false
   },
   "outputs": [
    {
     "data": {
      "text/latex": [
       "\\(\n",
       "\\def\\sp{^}\\def\\sb{_}\\def\\leqno(#1){}\n",
       "\\def\\erf{\\mathrm{erf}}\\def\\sinh{\\mathrm{sinh}}\n",
       "\\def\\zag#1#2{{{\\left.{#1}\\right|}\\over{\\left|{#2}\\right.}}}\n",
       "\\def\\csch{\\mathrm{csch}}\n",
       "\\require{color}\n",
       "\\)\n",
       "\n",
       "$$\n",
       "\\left[\n",
       "1, \\: 1, \\: -2, \\: 0, \\: 0, \\: 0, \\: 0 \n",
       "\\right]\n",
       "\\leqno(NIL)\n",
       "$$\n",
       "\n",
       "\n",
       "\\(\\\\[3ex]\\color{blue}\\scriptsize\\text{List(Integer)}\\)\n"
      ],
      "text/plain": [
       "   [1,1,- 2,0,0,0,0]\n",
       "                                                          Type: List(Integer)\n"
      ]
     },
     "execution_count": 17,
     "metadata": {},
     "output_type": "execute_result"
    }
   ],
   "source": [
    "si2l F"
   ]
  },
  {
   "cell_type": "code",
   "execution_count": 18,
   "metadata": {
    "collapsed": false
   },
   "outputs": [
    {
     "data": {
      "text/latex": [
       "\\(\n",
       "\\def\\sp{^}\\def\\sb{_}\\def\\leqno(#1){}\n",
       "\\def\\erf{\\mathrm{erf}}\\def\\sinh{\\mathrm{sinh}}\n",
       "\\def\\zag#1#2{{{\\left.{#1}\\right|}\\over{\\left|{#2}\\right.}}}\n",
       "\\def\\csch{\\mathrm{csch}}\n",
       "\\require{color}\n",
       "\\)\n",
       "\n",
       "$$\n",
       "\\left[\n",
       "-1, \\: 1, \\: -2, \\: 0, \\: 0, \\: 0, \\: 0 \n",
       "\\right]\n",
       "\\leqno(NIL)\n",
       "$$\n",
       "\n",
       "\n",
       "\\(\\\\[3ex]\\color{blue}\\scriptsize\\text{List(Integer)}\\)\n"
      ],
      "text/plain": [
       "   [- 1,1,- 2,0,0,0,0]\n",
       "                                                          Type: List(Integer)\n"
      ]
     },
     "execution_count": 18,
     "metadata": {},
     "output_type": "execute_result"
    }
   ],
   "source": [
    "si2l p"
   ]
  },
  {
   "cell_type": "code",
   "execution_count": 19,
   "metadata": {
    "collapsed": false
   },
   "outputs": [
    {
     "data": {
      "text/latex": [
       "\\(\n",
       "\\def\\sp{^}\\def\\sb{_}\\def\\leqno(#1){}\n",
       "\\def\\erf{\\mathrm{erf}}\\def\\sinh{\\mathrm{sinh}}\n",
       "\\def\\zag#1#2{{{\\left.{#1}\\right|}\\over{\\left|{#2}\\right.}}}\n",
       "\\def\\csch{\\mathrm{csch}}\n",
       "\\require{color}\n",
       "\\)\n",
       "\n",
       "$$\n",
       "\\left[\n",
       "0, \\: 0, \\: 0, \\: 0, \\: 0, \\: 0, \\: 6 \n",
       "\\right]\n",
       "\\leqno(NIL)\n",
       "$$\n",
       "\n",
       "\n",
       "\\(\\\\[3ex]\\color{blue}\\scriptsize\\text{List(Integer)}\\)\n"
      ],
      "text/plain": [
       "   [0,0,0,0,0,0,6]\n",
       "                                                          Type: List(Integer)\n"
      ]
     },
     "execution_count": 19,
     "metadata": {},
     "output_type": "execute_result"
    }
   ],
   "source": [
    "si2l %cd(6)"
   ]
  },
  {
   "cell_type": "code",
   "execution_count": 20,
   "metadata": {
    "collapsed": false
   },
   "outputs": [
    {
     "data": {
      "text/latex": [
       "\\(\n",
       "\\def\\sp{^}\\def\\sb{_}\\def\\leqno(#1){}\n",
       "\\def\\erf{\\mathrm{erf}}\\def\\sinh{\\mathrm{sinh}}\n",
       "\\def\\zag#1#2{{{\\left.{#1}\\right|}\\over{\\left|{#2}\\right.}}}\n",
       "\\def\\csch{\\mathrm{csch}}\n",
       "\\require{color}\n",
       "\\)\n",
       "\n",
       "$$\n",
       "{{{A} \\sp {3}}}{{K} \\sp {8}} \n",
       "\\leqno(NIL)\n",
       "$$\n",
       "\n",
       "\n",
       "\\(\\\\[3ex]\\color{blue}\\scriptsize\\text{SIunit}\\)\n"
      ],
      "text/plain": [
       "    3 8\n",
       "   A K\n",
       "                                                                 Type: SIunit\n"
      ]
     },
     "execution_count": 20,
     "metadata": {},
     "output_type": "execute_result"
    }
   ],
   "source": [
    "%A(3) * %K(8)"
   ]
  },
  {
   "cell_type": "code",
   "execution_count": 21,
   "metadata": {
    "collapsed": false
   },
   "outputs": [
    {
     "data": {
      "text/latex": [
       "\\(\n",
       "\\def\\sp{^}\\def\\sb{_}\\def\\leqno(#1){}\n",
       "\\def\\erf{\\mathrm{erf}}\\def\\sinh{\\mathrm{sinh}}\n",
       "\\def\\zag#1#2{{{\\left.{#1}\\right|}\\over{\\left|{#2}\\right.}}}\n",
       "\\def\\csch{\\mathrm{csch}}\n",
       "\\require{color}\n",
       "\\)\n",
       "\n",
       "$$\n",
       "\\left[\n",
       "0, \\: 0, \\: 0, \\: 3, \\: 8, \\: 0, \\: 0 \n",
       "\\right]\n",
       "\\leqno(NIL)\n",
       "$$\n",
       "\n",
       "\n",
       "\\(\\\\[3ex]\\color{blue}\\scriptsize\\text{List(Integer)}\\)\n"
      ],
      "text/plain": [
       "   [0,0,0,3,8,0,0]\n",
       "                                                          Type: List(Integer)\n"
      ]
     },
     "execution_count": 21,
     "metadata": {},
     "output_type": "execute_result"
    }
   ],
   "source": [
    "si2l %"
   ]
  },
  {
   "cell_type": "markdown",
   "metadata": {},
   "source": [
    "## Derived Units\n",
    "\n",
    "The *derived SI units* are built in for convenience. The lookup function is `SI_derived` and expects as argument the name of the *derived unit*. Note that those and their nomenclature are clearly defined by BIPM:\n",
    "\n",
    "    SIderived(s:String):% ==\n",
    "          s = \"hertz\"     => %s(-1)\n",
    "          s = \"newton\"    => %kg(1)*%m(1)*%s(-2)\n",
    "          s = \"pascal\"    => %kg(1)*%m(-1)*%s(-2)\n",
    "          s = \"joule\"     => %kg(1)*%m(2)*%s(-2)\n",
    "          s = \"watt\"      => %kg(1)*%m(2)*%s(-3)\n",
    "          s = \"coulomb\"   => %s(1)*%A(1)\n",
    "          s = \"volt\"      => %kg(1)*%m(2)*%s(-3)*%A(-1)\n",
    "          s = \"farad\"     => %kg(-1)*%m(-2)*%s(4)*%A(2)\n",
    "          s = \"ohm\"       => %kg(1)*%m(2)*%s(-3)*%A(2)\n",
    "          s = \"siemens\"   => %kg(-1)*%m(-2)*%s(3)*%A(2)\n",
    "          s = \"weber\"     => %kg(1)*%m(2)*%s(-2)*%A(-1)\n",
    "          s = \"tesla\"     => %kg(1)*%s(-2)*%A(-1)\n",
    "          s = \"henry\"     => %kg(1)*%m(2)*%s(-2)*%A(-2)\n",
    "          s = \"lumen\"     => %cd(1)\n",
    "          s = \"lux\"       => %m(-2)*%cd(1)\n",
    "          s = \"becquerel\" => %s(-1)\n",
    "          s = \"gray\"      => %m(2)*%s(-2)\n",
    "          s = \"sievert\"   => %m(2)*%s(-2)\n",
    "          s = \"katal\"     => %s(-1)*%mol(1)\n",
    "          error \"Expected string name of a derived SI unit.\"\n",
    " \n"
   ]
  },
  {
   "cell_type": "code",
   "execution_count": 22,
   "metadata": {
    "collapsed": false
   },
   "outputs": [
    {
     "data": {
      "text/latex": [
       "\\(\n",
       "\\def\\sp{^}\\def\\sb{_}\\def\\leqno(#1){}\n",
       "\\def\\erf{\\mathrm{erf}}\\def\\sinh{\\mathrm{sinh}}\n",
       "\\def\\zag#1#2{{{\\left.{#1}\\right|}\\over{\\left|{#2}\\right.}}}\n",
       "\\def\\csch{\\mathrm{csch}}\n",
       "\\require{color}\n",
       "\\)\n",
       "\n",
       "$$\n",
       "{{{{m} \\sp {-1}}}{{kg} \\sp {1}}}{{s} \\sp {-2}} \n",
       "\\leqno(NIL)\n",
       "$$\n",
       "\n",
       "\n",
       "\\(\\\\[3ex]\\color{blue}\\scriptsize\\text{SIunit}\\)\n"
      ],
      "text/plain": [
       "    - 1  1 - 2\n",
       "   m   kg s\n",
       "                                                                 Type: SIunit\n"
      ]
     },
     "execution_count": 22,
     "metadata": {},
     "output_type": "execute_result"
    }
   ],
   "source": [
    "SIderived \"pascal\""
   ]
  },
  {
   "cell_type": "code",
   "execution_count": 23,
   "metadata": {
    "collapsed": false
   },
   "outputs": [
    {
     "data": {
      "text/latex": [
       "\\(\n",
       "\\def\\sp{^}\\def\\sb{_}\\def\\leqno(#1){}\n",
       "\\def\\erf{\\mathrm{erf}}\\def\\sinh{\\mathrm{sinh}}\n",
       "\\def\\zag#1#2{{{\\left.{#1}\\right|}\\over{\\left|{#2}\\right.}}}\n",
       "\\def\\csch{\\mathrm{csch}}\n",
       "\\require{color}\n",
       "\\)\n",
       "\n",
       "$$\n",
       "{{{{kg} \\sp {1}}}{{s} \\sp {-2}}}{{A} \\sp {-1}} \n",
       "\\leqno(NIL)\n",
       "$$\n",
       "\n",
       "\n",
       "\\(\\\\[3ex]\\color{blue}\\scriptsize\\text{SIunit}\\)\n"
      ],
      "text/plain": [
       "     1 - 2 - 1\n",
       "   kg s   A\n",
       "                                                                 Type: SIunit\n"
      ]
     },
     "execution_count": 23,
     "metadata": {},
     "output_type": "execute_result"
    }
   ],
   "source": [
    "SIderived \"tesla\""
   ]
  },
  {
   "cell_type": "code",
   "execution_count": 24,
   "metadata": {
    "collapsed": false
   },
   "outputs": [
    {
     "data": {
      "text/latex": [
       "\\(\n",
       "\\def\\sp{^}\\def\\sb{_}\\def\\leqno(#1){}\n",
       "\\def\\erf{\\mathrm{erf}}\\def\\sinh{\\mathrm{sinh}}\n",
       "\\def\\zag#1#2{{{\\left.{#1}\\right|}\\over{\\left|{#2}\\right.}}}\n",
       "\\def\\csch{\\mathrm{csch}}\n",
       "\\require{color}\n",
       "\\)\n",
       "\n",
       "$$\n",
       "{{{m} \\sp {2}}}{{s} \\sp {-3}} \n",
       "\\leqno(NIL)\n",
       "$$\n",
       "\n",
       "\n",
       "\\(\\\\[3ex]\\color{blue}\\scriptsize\\text{SIunit}\\)\n"
      ],
      "text/plain": [
       "    2 - 3\n",
       "   m s\n",
       "                                                                 Type: SIunit\n"
      ]
     },
     "execution_count": 24,
     "metadata": {},
     "output_type": "execute_result"
    }
   ],
   "source": [
    "(SIderived \"gray\") * (SIderived \"becquerel\")"
   ]
  },
  {
   "cell_type": "code",
   "execution_count": 25,
   "metadata": {
    "collapsed": false
   },
   "outputs": [
    {
     "data": {
      "text/latex": [
       "\\(\n",
       "\\def\\sp{^}\\def\\sb{_}\\def\\leqno(#1){}\n",
       "\\def\\erf{\\mathrm{erf}}\\def\\sinh{\\mathrm{sinh}}\n",
       "\\def\\zag#1#2{{{\\left.{#1}\\right|}\\over{\\left|{#2}\\right.}}}\n",
       "\\def\\csch{\\mathrm{csch}}\n",
       "\\require{color}\n",
       "\\)\n",
       "\n",
       "$$\n",
       "{{{{m} \\sp {2}}}{{kg} \\sp {1}}}{{s} \\sp {-2}} \n",
       "\\leqno(NIL)\n",
       "$$\n",
       "\n",
       "$$\n",
       "{{{{m} \\sp {1}}}{{kg} \\sp {1}}}{{s} \\sp {-2}} \n",
       "\\leqno(NIL)\n",
       "$$\n",
       "\n",
       "\n",
       "\\(\\\\[3ex]\\color{blue}\\scriptsize\\text{SIunit}\\)\n"
      ],
      "text/plain": [
       "    2  1 - 2\n",
       "   m kg s\n",
       "                                                                 Type: SIunit\n",
       "    1  1 - 2\n",
       "   m kg s\n",
       "                                                                 Type: SIunit\n"
      ]
     },
     "execution_count": 25,
     "metadata": {},
     "output_type": "execute_result"
    }
   ],
   "source": [
    "Energy := SIderived \"joule\"\n",
    "Force  := SIderived \"newton\""
   ]
  },
  {
   "cell_type": "code",
   "execution_count": 26,
   "metadata": {
    "collapsed": false
   },
   "outputs": [
    {
     "data": {
      "text/latex": [
       "\\(\n",
       "\\def\\sp{^}\\def\\sb{_}\\def\\leqno(#1){}\n",
       "\\def\\erf{\\mathrm{erf}}\\def\\sinh{\\mathrm{sinh}}\n",
       "\\def\\zag#1#2{{{\\left.{#1}\\right|}\\over{\\left|{#2}\\right.}}}\n",
       "\\def\\csch{\\mathrm{csch}}\n",
       "\\require{color}\n",
       "\\)\n",
       "\n",
       "$$\n",
       "{{m} \\sp {1}} \n",
       "\\leqno(NIL)\n",
       "$$\n",
       "\n",
       "\n",
       "\\(\\\\[3ex]\\color{blue}\\scriptsize\\text{SIunit}\\)\n"
      ],
      "text/plain": [
       "    1\n",
       "   m\n",
       "                                                                 Type: SIunit\n"
      ]
     },
     "execution_count": 26,
     "metadata": {},
     "output_type": "execute_result"
    }
   ],
   "source": [
    "(Energy/Force)$SI"
   ]
  },
  {
   "cell_type": "code",
   "execution_count": 27,
   "metadata": {
    "collapsed": false
   },
   "outputs": [
    {
     "data": {
      "text/latex": [
       "\\(\n",
       "\\def\\sp{^}\\def\\sb{_}\\def\\leqno(#1){}\n",
       "\\def\\erf{\\mathrm{erf}}\\def\\sinh{\\mathrm{sinh}}\n",
       "\\def\\zag#1#2{{{\\left.{#1}\\right|}\\over{\\left|{#2}\\right.}}}\n",
       "\\def\\csch{\\mathrm{csch}}\n",
       "\\require{color}\n",
       "\\)\n",
       "\n",
       "$$\n",
       "{{{{m} \\sp {2}}}{{kg} \\sp {1}}}{{s} \\sp {-2}} \n",
       "\\leqno(NIL)\n",
       "$$\n",
       "\n",
       "\n",
       "\\(\\\\[3ex]\\color{blue}\\scriptsize\\text{SIunit}\\)\n"
      ],
      "text/plain": [
       "    2  1 - 2\n",
       "   m kg s\n",
       "                                                                 Type: SIunit\n"
      ]
     },
     "execution_count": 27,
     "metadata": {},
     "output_type": "execute_result"
    }
   ],
   "source": [
    "-- indeed Energy = Force * %m(1)\n",
    "Force*%m(1)"
   ]
  },
  {
   "cell_type": "markdown",
   "metadata": {},
   "source": [
    "#### Test for equality \n",
    "Use `$` if necessary:"
   ]
  },
  {
   "cell_type": "code",
   "execution_count": 28,
   "metadata": {
    "collapsed": false
   },
   "outputs": [
    {
     "data": {
      "text/latex": [
       "\\(\n",
       "\\def\\sp{^}\\def\\sb{_}\\def\\leqno(#1){}\n",
       "\\def\\erf{\\mathrm{erf}}\\def\\sinh{\\mathrm{sinh}}\n",
       "\\def\\zag#1#2{{{\\left.{#1}\\right|}\\over{\\left|{#2}\\right.}}}\n",
       "\\def\\csch{\\mathrm{csch}}\n",
       "\\require{color}\n",
       "\\)\n",
       "\n",
       "$$\n",
       "true \n",
       "\\leqno(NIL)\n",
       "$$\n",
       "\n",
       "\n",
       "\\(\\\\[3ex]\\color{blue}\\scriptsize\\text{Boolean}\\)\n"
      ],
      "text/plain": [
       "   true\n",
       "                                                                Type: Boolean\n"
      ]
     },
     "execution_count": 28,
     "metadata": {},
     "output_type": "execute_result"
    }
   ],
   "source": [
    "(Energy = (Force * %m(1)))$SI"
   ]
  },
  {
   "cell_type": "code",
   "execution_count": 29,
   "metadata": {
    "collapsed": false
   },
   "outputs": [
    {
     "data": {
      "text/latex": [
       "\\(\n",
       "\\def\\sp{^}\\def\\sb{_}\\def\\leqno(#1){}\n",
       "\\def\\erf{\\mathrm{erf}}\\def\\sinh{\\mathrm{sinh}}\n",
       "\\def\\zag#1#2{{{\\left.{#1}\\right|}\\over{\\left|{#2}\\right.}}}\n",
       "\\def\\csch{\\mathrm{csch}}\n",
       "\\require{color}\n",
       "\\)\n",
       "\n",
       "$$\n",
       "true \n",
       "\\leqno(NIL)\n",
       "$$\n",
       "\n",
       "\n",
       "\\(\\\\[3ex]\\color{blue}\\scriptsize\\text{Boolean}\\)\n"
      ],
      "text/plain": [
       "   true\n",
       "                                                                Type: Boolean\n"
      ]
     },
     "execution_count": 29,
     "metadata": {},
     "output_type": "execute_result"
    }
   ],
   "source": [
    "(p=Force/%m(2))$SI"
   ]
  },
  {
   "cell_type": "code",
   "execution_count": 30,
   "metadata": {
    "collapsed": false
   },
   "outputs": [
    {
     "name": "stderr",
     "output_type": "stream",
     "text": [
      " \n",
      "   >> Error detected within library code:\n",
      "   Expected string name of a derived SI unit.\n",
      "\n"
     ]
    },
    {
     "data": {
      "text/plain": [
       "error\n"
      ]
     },
     "execution_count": 30,
     "metadata": {},
     "output_type": "execute_result"
    }
   ],
   "source": [
    "-- Error (actually 'meter' is a base unit and not derived)\n",
    "SIderived(\"meter\")"
   ]
  },
  {
   "cell_type": "markdown",
   "metadata": {},
   "source": [
    "Next see **Buckingham $\\Pi$ Theorem**\n",
    "\n",
    "[Wikipedia](https://en.wikipedia.org/wiki/Buckingham_%CF%80_theorem)"
   ]
  },
  {
   "cell_type": "code",
   "execution_count": null,
   "metadata": {
    "collapsed": true
   },
   "outputs": [],
   "source": []
  }
 ],
 "metadata": {
  "kernelspec": {
   "display_name": "FriCAS",
   "language": "spad",
   "name": "ifricas"
  },
  "language_info": {
   "codemirror_mode": "spad",
   "mimetype": "text/x-spad",
   "name": "SPAD",
   "pygments_lexer": "spad",
   "version": "1.2.6"
  }
 },
 "nbformat": 4,
 "nbformat_minor": 0
}
