{
 "cells": [
  {
   "cell_type": "markdown",
   "metadata": {},
   "source": [
    "# RIA - Rational Interval Arithmetics\n",
    "\n",
    "The domain **`RationalInterval`** (abbrev. **`RIA`**) implements *Rational Interval Arithmetics*. We were inspired by the article [Guaranteed Proofs Using Interval Arithmetic](https://www.lri.fr/~melquion/doc/05-arith17-article.pdf). For basic definitions see section 2.1 therein.\n",
    "\n",
    "\n",
    "#### Basic Interval Operations \n",
    "        \n",
    "        \"+\" : (%,%) -> %\n",
    "        \"-\" : (%,%) -> %\n",
    "        \"*\" : (%,%) -> %\n",
    "        \"/\" : (%,%) -> %\n",
    "        \"^\" : (%,I) -> %\n",
    "        \"-\" :  % -> %\n",
    "        abs :  % -> %\n",
    "        elt : (Q, %) -> %\n",
    "        coerce: % -> OutputForm\n",
    "        coerce: List Q -> %\n",
    "        coerce: Float -> %\n",
    "        coerce: DF -> %\n",
    "        \n",
    "        concise : % -> OutputForm\n",
    "\n",
    "\n",
    "#### Constructors and Query Functions\n",
    "\n",
    "        mki : (Q,Q) -> %\n",
    "        lb  :  % -> Q\n",
    "        ub  :  % -> Q\n",
    "        \n",
    "        mid :  % -> Q\n",
    "        len :  % -> Q\n",
    "        \n",
    "        frep    : % -> OF\n",
    "        \n",
    "\n",
    "\n",
    "These functions and operations are explained in detail below. Note that `Q` means the rationals ($\\mathbb{Q}$).\n",
    "\n",
    "\n"
   ]
  },
  {
   "cell_type": "code",
   "execution_count": 1,
   "metadata": {
    "collapsed": false
   },
   "outputs": [
    {
     "data": {
      "text/latex": [
       "\\(\n",
       "\\def\\sp{^}\\def\\sb{_}\\def\\leqno(#1){}\n",
       "\\def\\erf{\\mathrm{erf}}\\def\\sinh{\\mathrm{sinh}}\n",
       "\\def\\zag#1#2{{{\\left.{#1}\\right|}\\over{\\left|{#2}\\right.}}}\n",
       "\\def\\csch{\\mathrm{csch}}\n",
       "\\require{color}\n",
       "\\)\n",
       "\n",
       "\n",
       "\\(\\\\[3ex]\\color{blue}\\scriptsize\\text{Void}\\)\n"
      ],
      "text/plain": [
       "                                                                   Type: Void\n"
      ]
     },
     "execution_count": 1,
     "metadata": {},
     "output_type": "execute_result"
    }
   ],
   "source": [
    ")set output tex on\n",
    "Q ==> Fraction Integer"
   ]
  },
  {
   "cell_type": "markdown",
   "metadata": {},
   "source": [
    "In order to use the library we have to load it:"
   ]
  },
  {
   "cell_type": "code",
   "execution_count": 2,
   "metadata": {
    "collapsed": false
   },
   "outputs": [
    {
     "name": "stdout",
     "output_type": "stream",
     "text": [
      "   RationalInterval is now explicitly exposed in frame initial \n",
      "   RationalInterval will be automatically loaded when needed from \n",
      "      /home/kfp/Development/physqty/Untitled Folder/RIA.NRLIB/RIA\n",
      "\n"
     ]
    },
    {
     "data": {
      "text/plain": []
     },
     "execution_count": 2,
     "metadata": {},
     "output_type": "execute_result"
    }
   ],
   "source": [
    ")lib RIA"
   ]
  },
  {
   "cell_type": "markdown",
   "metadata": {},
   "source": [
    "### Construction of Intervals\n",
    "\n",
    "The first method to construct a rational interval is to use the constructor function `mki` which expects two arguments: the lower bound `lb` and the upper bound `ub` returning an object of type `RationalInterval`."
   ]
  },
  {
   "cell_type": "code",
   "execution_count": 3,
   "metadata": {
    "collapsed": false
   },
   "outputs": [
    {
     "name": "stdout",
     "output_type": "stream",
     "text": [
      "Warning: HyperTeX macro table not found\n"
     ]
    },
    {
     "data": {
      "text/latex": [
       "\\(\n",
       "\\def\\sp{^}\\def\\sb{_}\\def\\leqno(#1){}\n",
       "\\def\\erf{\\mathrm{erf}}\\def\\sinh{\\mathrm{sinh}}\n",
       "\\def\\zag#1#2{{{\\left.{#1}\\right|}\\over{\\left|{#2}\\right.}}}\n",
       "\\def\\csch{\\mathrm{csch}}\n",
       "\\require{color}\n",
       "\\)\n",
       "\n",
       "$$\n",
       "\\left[\n",
       "{1 \\over 2}, \\: {2 \\over 3} \n",
       "\\right]\n",
       "\\leqno(NIL)\n",
       "$$\n",
       "\n",
       "\n",
       "\\(\\\\[3ex]\\color{blue}\\scriptsize\\text{RationalInterval}\\)\n"
      ],
      "text/plain": [
       "    1 2\n",
       "   [-,-]\n",
       "    2 3\n",
       "                                                       Type: RationalInterval\n"
      ]
     },
     "execution_count": 3,
     "metadata": {},
     "output_type": "execute_result"
    }
   ],
   "source": [
    "I:=mki(1/2,2/3)"
   ]
  },
  {
   "cell_type": "markdown",
   "metadata": {},
   "source": [
    "Another method is to `coerce` a list `[lb,ub]`, where $lb \\leq ub\\in\\mathbb{Q}$."
   ]
  },
  {
   "cell_type": "code",
   "execution_count": 4,
   "metadata": {
    "collapsed": false
   },
   "outputs": [
    {
     "data": {
      "text/latex": [
       "\\(\n",
       "\\def\\sp{^}\\def\\sb{_}\\def\\leqno(#1){}\n",
       "\\def\\erf{\\mathrm{erf}}\\def\\sinh{\\mathrm{sinh}}\n",
       "\\def\\zag#1#2{{{\\left.{#1}\\right|}\\over{\\left|{#2}\\right.}}}\n",
       "\\def\\csch{\\mathrm{csch}}\n",
       "\\require{color}\n",
       "\\)\n",
       "\n",
       "$$\n",
       "\\left[\n",
       "{1 \\over 2}, \\: {2 \\over 3} \n",
       "\\right]\n",
       "\\leqno(NIL)\n",
       "$$\n",
       "\n",
       "\n",
       "\\(\\\\[3ex]\\color{blue}\\scriptsize\\text{RationalInterval}\\)\n"
      ],
      "text/plain": [
       "    1 2\n",
       "   [-,-]\n",
       "    2 3\n",
       "                                                       Type: RationalInterval\n"
      ]
     },
     "execution_count": 4,
     "metadata": {},
     "output_type": "execute_result"
    }
   ],
   "source": [
    "I2:=[1/2,2/3]::RIA"
   ]
  },
  {
   "cell_type": "markdown",
   "metadata": {},
   "source": [
    "**Note** that the arguments must be rational numbers, failing which produces an error:"
   ]
  },
  {
   "cell_type": "code",
   "execution_count": 5,
   "metadata": {
    "collapsed": false
   },
   "outputs": [
    {
     "name": "stderr",
     "output_type": "stream",
     "text": [
      " \n",
      "   Cannot convert the value from type List(Float) to RationalInterval .\n",
      "\n"
     ]
    },
    {
     "data": {
      "text/plain": [
       "error\n"
      ]
     },
     "execution_count": 5,
     "metadata": {},
     "output_type": "execute_result"
    }
   ],
   "source": [
    "I3:=[0.5,0.6666]::RIA"
   ]
  },
  {
   "cell_type": "markdown",
   "metadata": {},
   "source": [
    "However, we can coerce the arguments of course:"
   ]
  },
  {
   "cell_type": "code",
   "execution_count": 6,
   "metadata": {
    "collapsed": false
   },
   "outputs": [
    {
     "data": {
      "text/latex": [
       "\\(\n",
       "\\def\\sp{^}\\def\\sb{_}\\def\\leqno(#1){}\n",
       "\\def\\erf{\\mathrm{erf}}\\def\\sinh{\\mathrm{sinh}}\n",
       "\\def\\zag#1#2{{{\\left.{#1}\\right|}\\over{\\left|{#2}\\right.}}}\n",
       "\\def\\csch{\\mathrm{csch}}\n",
       "\\require{color}\n",
       "\\)\n",
       "\n",
       "$$\n",
       "\\left[\n",
       "{1 \\over 2}, \\: {{3333} \\over {5000}} \n",
       "\\right]\n",
       "\\leqno(NIL)\n",
       "$$\n",
       "\n",
       "\n",
       "\\(\\\\[3ex]\\color{blue}\\scriptsize\\text{RationalInterval}\\)\n"
      ],
      "text/plain": [
       "    1 3333\n",
       "   [-,----]\n",
       "    2 5000\n",
       "                                                       Type: RationalInterval\n"
      ]
     },
     "execution_count": 6,
     "metadata": {},
     "output_type": "execute_result"
    }
   ],
   "source": [
    "I3:=[0.5::Q,0.6666::Q]::RIA"
   ]
  },
  {
   "cell_type": "markdown",
   "metadata": {},
   "source": [
    "So, as we can see, floating point numbers are converted to rationals."
   ]
  },
  {
   "cell_type": "markdown",
   "metadata": {},
   "source": [
    "### Query functions\n",
    "Objects of type `RationalInterval` are not lists, therefore the usual way to access elements will not work. There are special query functions expecting an interval as argument."
   ]
  },
  {
   "cell_type": "markdown",
   "metadata": {},
   "source": [
    "#### Lower bound of `I`"
   ]
  },
  {
   "cell_type": "code",
   "execution_count": 7,
   "metadata": {
    "collapsed": false
   },
   "outputs": [
    {
     "data": {
      "text/latex": [
       "\\(\n",
       "\\def\\sp{^}\\def\\sb{_}\\def\\leqno(#1){}\n",
       "\\def\\erf{\\mathrm{erf}}\\def\\sinh{\\mathrm{sinh}}\n",
       "\\def\\zag#1#2{{{\\left.{#1}\\right|}\\over{\\left|{#2}\\right.}}}\n",
       "\\def\\csch{\\mathrm{csch}}\n",
       "\\require{color}\n",
       "\\)\n",
       "\n",
       "$$\n",
       "1 \\over 2 \n",
       "\\leqno(NIL)\n",
       "$$\n",
       "\n",
       "\n",
       "\\(\\\\[3ex]\\color{blue}\\scriptsize\\text{Fraction(Integer)}\\)\n"
      ],
      "text/plain": [
       "   1\n",
       "   -\n",
       "   2\n",
       "                                                      Type: Fraction(Integer)\n"
      ]
     },
     "execution_count": 7,
     "metadata": {},
     "output_type": "execute_result"
    }
   ],
   "source": [
    "lb I"
   ]
  },
  {
   "cell_type": "markdown",
   "metadata": {},
   "source": [
    "#### Upper bound of `I`"
   ]
  },
  {
   "cell_type": "code",
   "execution_count": 8,
   "metadata": {
    "collapsed": false
   },
   "outputs": [
    {
     "data": {
      "text/latex": [
       "\\(\n",
       "\\def\\sp{^}\\def\\sb{_}\\def\\leqno(#1){}\n",
       "\\def\\erf{\\mathrm{erf}}\\def\\sinh{\\mathrm{sinh}}\n",
       "\\def\\zag#1#2{{{\\left.{#1}\\right|}\\over{\\left|{#2}\\right.}}}\n",
       "\\def\\csch{\\mathrm{csch}}\n",
       "\\require{color}\n",
       "\\)\n",
       "\n",
       "$$\n",
       "2 \\over 3 \n",
       "\\leqno(NIL)\n",
       "$$\n",
       "\n",
       "\n",
       "\\(\\\\[3ex]\\color{blue}\\scriptsize\\text{Fraction(Integer)}\\)\n"
      ],
      "text/plain": [
       "   2\n",
       "   -\n",
       "   3\n",
       "                                                      Type: Fraction(Integer)\n"
      ]
     },
     "execution_count": 8,
     "metadata": {},
     "output_type": "execute_result"
    }
   ],
   "source": [
    "ub I"
   ]
  },
  {
   "cell_type": "markdown",
   "metadata": {},
   "source": [
    "#### Mean value, i.e. $\\frac{(lb+ub)}{2}$"
   ]
  },
  {
   "cell_type": "code",
   "execution_count": 9,
   "metadata": {
    "collapsed": false
   },
   "outputs": [
    {
     "data": {
      "text/latex": [
       "\\(\n",
       "\\def\\sp{^}\\def\\sb{_}\\def\\leqno(#1){}\n",
       "\\def\\erf{\\mathrm{erf}}\\def\\sinh{\\mathrm{sinh}}\n",
       "\\def\\zag#1#2{{{\\left.{#1}\\right|}\\over{\\left|{#2}\\right.}}}\n",
       "\\def\\csch{\\mathrm{csch}}\n",
       "\\require{color}\n",
       "\\)\n",
       "\n",
       "$$\n",
       "7 \\over {12} \n",
       "\\leqno(NIL)\n",
       "$$\n",
       "\n",
       "\n",
       "\\(\\\\[3ex]\\color{blue}\\scriptsize\\text{Fraction(Integer)}\\)\n"
      ],
      "text/plain": [
       "    7\n",
       "   --\n",
       "   12\n",
       "                                                      Type: Fraction(Integer)\n"
      ]
     },
     "execution_count": 9,
     "metadata": {},
     "output_type": "execute_result"
    }
   ],
   "source": [
    "mid I"
   ]
  },
  {
   "cell_type": "markdown",
   "metadata": {},
   "source": [
    "#### Length of I, i.e. $ub-lb$"
   ]
  },
  {
   "cell_type": "code",
   "execution_count": 10,
   "metadata": {
    "collapsed": false
   },
   "outputs": [
    {
     "data": {
      "text/latex": [
       "\\(\n",
       "\\def\\sp{^}\\def\\sb{_}\\def\\leqno(#1){}\n",
       "\\def\\erf{\\mathrm{erf}}\\def\\sinh{\\mathrm{sinh}}\n",
       "\\def\\zag#1#2{{{\\left.{#1}\\right|}\\over{\\left|{#2}\\right.}}}\n",
       "\\def\\csch{\\mathrm{csch}}\n",
       "\\require{color}\n",
       "\\)\n",
       "\n",
       "$$\n",
       "1 \\over 6 \n",
       "\\leqno(NIL)\n",
       "$$\n",
       "\n",
       "\n",
       "\\(\\\\[3ex]\\color{blue}\\scriptsize\\text{Fraction(Integer)}\\)\n"
      ],
      "text/plain": [
       "   1\n",
       "   -\n",
       "   6\n",
       "                                                      Type: Fraction(Integer)\n"
      ]
     },
     "execution_count": 10,
     "metadata": {},
     "output_type": "execute_result"
    }
   ],
   "source": [
    "len I"
   ]
  },
  {
   "cell_type": "markdown",
   "metadata": {},
   "source": [
    "##### Floating point representation\n",
    "The function `frep` gives a floating point representation of the interval. This function merely is for use with the `PQTY` package, so use with care."
   ]
  },
  {
   "cell_type": "code",
   "execution_count": 11,
   "metadata": {
    "collapsed": false
   },
   "outputs": [
    {
     "data": {
      "text/latex": [
       "\\(\n",
       "\\def\\sp{^}\\def\\sb{_}\\def\\leqno(#1){}\n",
       "\\def\\erf{\\mathrm{erf}}\\def\\sinh{\\mathrm{sinh}}\n",
       "\\def\\zag#1#2{{{\\left.{#1}\\right|}\\over{\\left|{#2}\\right.}}}\n",
       "\\def\\csch{\\mathrm{csch}}\n",
       "\\require{color}\n",
       "\\)\n",
       "\n",
       "$$\n",
       "{0.5833333333\\_3333333333}{\\ }±{\\ }{0.0833333333\\_3333333333\\_3} \n",
       "\\leqno(NIL)\n",
       "$$\n",
       "\n",
       "\n",
       "\\(\\\\[3ex]\\color{blue}\\scriptsize\\text{OutputForm}\\)\n"
      ],
      "text/plain": [
       "   0.5833333333_3333333333 ± 0.0833333333_3333333333_3\n",
       "                                                             Type: OutputForm\n"
      ]
     },
     "execution_count": 11,
     "metadata": {},
     "output_type": "execute_result"
    }
   ],
   "source": [
    "frep I"
   ]
  },
  {
   "cell_type": "code",
   "execution_count": 12,
   "metadata": {
    "collapsed": false
   },
   "outputs": [
    {
     "data": {
      "text/latex": [
       "\\(\n",
       "\\def\\sp{^}\\def\\sb{_}\\def\\leqno(#1){}\n",
       "\\def\\erf{\\mathrm{erf}}\\def\\sinh{\\mathrm{sinh}}\n",
       "\\def\\zag#1#2{{{\\left.{#1}\\right|}\\over{\\left|{#2}\\right.}}}\n",
       "\\def\\csch{\\mathrm{csch}}\n",
       "\\require{color}\n",
       "\\)\n",
       "\n",
       "$$\n",
       "20 \n",
       "\\leqno(NIL)\n",
       "$$\n",
       "\n",
       "$$\n",
       "{0.58333333}{\\ }±{\\ }{0.083333333} \n",
       "\\leqno(NIL)\n",
       "$$\n",
       "\n",
       "\n",
       "\\(\\\\[3ex]\\color{blue}\\scriptsize\\text{OutputForm}\\)\n"
      ],
      "text/plain": [
       "   20\n",
       "                                                        Type: PositiveInteger\n",
       "   0.58333333 ± 0.083333333\n",
       "                                                             Type: OutputForm\n"
      ]
     },
     "execution_count": 12,
     "metadata": {},
     "output_type": "execute_result"
    }
   ],
   "source": [
    "digits(8)\n",
    "frep I"
   ]
  },
  {
   "cell_type": "markdown",
   "metadata": {},
   "source": [
    "## Basic Operations\n",
    "\n",
    "Intervals can be added, multiplied, scaled and so on. To each operation an example is given below. For the sake of clarity we use *integer* rationals:"
   ]
  },
  {
   "cell_type": "code",
   "execution_count": 13,
   "metadata": {
    "collapsed": false
   },
   "outputs": [
    {
     "data": {
      "text/latex": [
       "\\(\n",
       "\\def\\sp{^}\\def\\sb{_}\\def\\leqno(#1){}\n",
       "\\def\\erf{\\mathrm{erf}}\\def\\sinh{\\mathrm{sinh}}\n",
       "\\def\\zag#1#2{{{\\left.{#1}\\right|}\\over{\\left|{#2}\\right.}}}\n",
       "\\def\\csch{\\mathrm{csch}}\n",
       "\\require{color}\n",
       "\\)\n",
       "\n",
       "$$\n",
       "\\left[\n",
       "-1, \\: 2 \n",
       "\\right]\n",
       "\\leqno(NIL)\n",
       "$$\n",
       "\n",
       "$$\n",
       "\\left[\n",
       "5, \\: 8 \n",
       "\\right]\n",
       "\\leqno(NIL)\n",
       "$$\n",
       "\n",
       "\n",
       "\\(\\\\[3ex]\\color{blue}\\scriptsize\\text{RationalInterval}\\)\n"
      ],
      "text/plain": [
       "   [- 1,2]\n",
       "                                                       Type: RationalInterval\n",
       "   [5,8]\n",
       "                                                       Type: RationalInterval\n"
      ]
     },
     "execution_count": 13,
     "metadata": {},
     "output_type": "execute_result"
    }
   ],
   "source": [
    "A:=[-1::Q,2]::RIA\n",
    "B:=[5::Q,8]::RIA"
   ]
  },
  {
   "cell_type": "markdown",
   "metadata": {},
   "source": [
    "##### Addition"
   ]
  },
  {
   "cell_type": "code",
   "execution_count": 14,
   "metadata": {
    "collapsed": false
   },
   "outputs": [
    {
     "data": {
      "text/latex": [
       "\\(\n",
       "\\def\\sp{^}\\def\\sb{_}\\def\\leqno(#1){}\n",
       "\\def\\erf{\\mathrm{erf}}\\def\\sinh{\\mathrm{sinh}}\n",
       "\\def\\zag#1#2{{{\\left.{#1}\\right|}\\over{\\left|{#2}\\right.}}}\n",
       "\\def\\csch{\\mathrm{csch}}\n",
       "\\require{color}\n",
       "\\)\n",
       "\n",
       "$$\n",
       "\\left[\n",
       "4, \\: {10} \n",
       "\\right]\n",
       "\\leqno(NIL)\n",
       "$$\n",
       "\n",
       "\n",
       "\\(\\\\[3ex]\\color{blue}\\scriptsize\\text{RationalInterval}\\)\n"
      ],
      "text/plain": [
       "   [4,10]\n",
       "                                                       Type: RationalInterval\n"
      ]
     },
     "execution_count": 14,
     "metadata": {},
     "output_type": "execute_result"
    }
   ],
   "source": [
    "A+B"
   ]
  },
  {
   "cell_type": "markdown",
   "metadata": {},
   "source": [
    "##### Subtraction"
   ]
  },
  {
   "cell_type": "code",
   "execution_count": 15,
   "metadata": {
    "collapsed": false
   },
   "outputs": [
    {
     "data": {
      "text/latex": [
       "\\(\n",
       "\\def\\sp{^}\\def\\sb{_}\\def\\leqno(#1){}\n",
       "\\def\\erf{\\mathrm{erf}}\\def\\sinh{\\mathrm{sinh}}\n",
       "\\def\\zag#1#2{{{\\left.{#1}\\right|}\\over{\\left|{#2}\\right.}}}\n",
       "\\def\\csch{\\mathrm{csch}}\n",
       "\\require{color}\n",
       "\\)\n",
       "\n",
       "$$\n",
       "\\left[\n",
       "-9, \\: -3 \n",
       "\\right]\n",
       "\\leqno(NIL)\n",
       "$$\n",
       "\n",
       "\n",
       "\\(\\\\[3ex]\\color{blue}\\scriptsize\\text{RationalInterval}\\)\n"
      ],
      "text/plain": [
       "   [- 9,- 3]\n",
       "                                                       Type: RationalInterval\n"
      ]
     },
     "execution_count": 15,
     "metadata": {},
     "output_type": "execute_result"
    }
   ],
   "source": [
    "A-B"
   ]
  },
  {
   "cell_type": "markdown",
   "metadata": {},
   "source": [
    "##### Inversion"
   ]
  },
  {
   "cell_type": "code",
   "execution_count": 16,
   "metadata": {
    "collapsed": false
   },
   "outputs": [
    {
     "data": {
      "text/latex": [
       "\\(\n",
       "\\def\\sp{^}\\def\\sb{_}\\def\\leqno(#1){}\n",
       "\\def\\erf{\\mathrm{erf}}\\def\\sinh{\\mathrm{sinh}}\n",
       "\\def\\zag#1#2{{{\\left.{#1}\\right|}\\over{\\left|{#2}\\right.}}}\n",
       "\\def\\csch{\\mathrm{csch}}\n",
       "\\require{color}\n",
       "\\)\n",
       "\n",
       "$$\n",
       "\\left[\n",
       "-8, \\: -5 \n",
       "\\right]\n",
       "\\leqno(NIL)\n",
       "$$\n",
       "\n",
       "\n",
       "\\(\\\\[3ex]\\color{blue}\\scriptsize\\text{RationalInterval}\\)\n"
      ],
      "text/plain": [
       "   [- 8,- 5]\n",
       "                                                       Type: RationalInterval\n"
      ]
     },
     "execution_count": 16,
     "metadata": {},
     "output_type": "execute_result"
    }
   ],
   "source": [
    "-B"
   ]
  },
  {
   "cell_type": "code",
   "execution_count": 17,
   "metadata": {
    "collapsed": false
   },
   "outputs": [
    {
     "data": {
      "text/latex": [
       "\\(\n",
       "\\def\\sp{^}\\def\\sb{_}\\def\\leqno(#1){}\n",
       "\\def\\erf{\\mathrm{erf}}\\def\\sinh{\\mathrm{sinh}}\n",
       "\\def\\zag#1#2{{{\\left.{#1}\\right|}\\over{\\left|{#2}\\right.}}}\n",
       "\\def\\csch{\\mathrm{csch}}\n",
       "\\require{color}\n",
       "\\)\n",
       "\n",
       "$$\n",
       "\\left[\n",
       "-9, \\: -3 \n",
       "\\right]\n",
       "\\leqno(NIL)\n",
       "$$\n",
       "\n",
       "\n",
       "\\(\\\\[3ex]\\color{blue}\\scriptsize\\text{RationalInterval}\\)\n"
      ],
      "text/plain": [
       "   [- 9,- 3]\n",
       "                                                       Type: RationalInterval\n"
      ]
     },
     "execution_count": 17,
     "metadata": {},
     "output_type": "execute_result"
    }
   ],
   "source": [
    "-- so A+(-B) should equal A-B\n",
    "A+(-B)"
   ]
  },
  {
   "cell_type": "markdown",
   "metadata": {},
   "source": [
    "##### Multiplication"
   ]
  },
  {
   "cell_type": "code",
   "execution_count": 18,
   "metadata": {
    "collapsed": false
   },
   "outputs": [
    {
     "data": {
      "text/latex": [
       "\\(\n",
       "\\def\\sp{^}\\def\\sb{_}\\def\\leqno(#1){}\n",
       "\\def\\erf{\\mathrm{erf}}\\def\\sinh{\\mathrm{sinh}}\n",
       "\\def\\zag#1#2{{{\\left.{#1}\\right|}\\over{\\left|{#2}\\right.}}}\n",
       "\\def\\csch{\\mathrm{csch}}\n",
       "\\require{color}\n",
       "\\)\n",
       "\n",
       "$$\n",
       "\\left[\n",
       "-8, \\: {16} \n",
       "\\right]\n",
       "\\leqno(NIL)\n",
       "$$\n",
       "\n",
       "\n",
       "\\(\\\\[3ex]\\color{blue}\\scriptsize\\text{RationalInterval}\\)\n"
      ],
      "text/plain": [
       "   [- 8,16]\n",
       "                                                       Type: RationalInterval\n"
      ]
     },
     "execution_count": 18,
     "metadata": {},
     "output_type": "execute_result"
    }
   ],
   "source": [
    "A*B"
   ]
  },
  {
   "cell_type": "markdown",
   "metadata": {},
   "source": [
    "##### Division"
   ]
  },
  {
   "cell_type": "code",
   "execution_count": 19,
   "metadata": {
    "collapsed": false
   },
   "outputs": [
    {
     "data": {
      "text/latex": [
       "\\(\n",
       "\\def\\sp{^}\\def\\sb{_}\\def\\leqno(#1){}\n",
       "\\def\\erf{\\mathrm{erf}}\\def\\sinh{\\mathrm{sinh}}\n",
       "\\def\\zag#1#2{{{\\left.{#1}\\right|}\\over{\\left|{#2}\\right.}}}\n",
       "\\def\\csch{\\mathrm{csch}}\n",
       "\\require{color}\n",
       "\\)\n",
       "\n",
       "$$\n",
       "\\left[\n",
       "-{1 \\over 5}, \\: {2 \\over 5} \n",
       "\\right]\n",
       "\\leqno(NIL)\n",
       "$$\n",
       "\n",
       "\n",
       "\\(\\\\[3ex]\\color{blue}\\scriptsize\\text{RationalInterval}\\)\n"
      ],
      "text/plain": [
       "      1 2\n",
       "   [- -,-]\n",
       "      5 5\n",
       "                                                       Type: RationalInterval\n"
      ]
     },
     "execution_count": 19,
     "metadata": {},
     "output_type": "execute_result"
    }
   ],
   "source": [
    "A/B"
   ]
  },
  {
   "cell_type": "markdown",
   "metadata": {},
   "source": [
    "##### Exponentiation"
   ]
  },
  {
   "cell_type": "code",
   "execution_count": 20,
   "metadata": {
    "collapsed": false
   },
   "outputs": [
    {
     "data": {
      "text/latex": [
       "\\(\n",
       "\\def\\sp{^}\\def\\sb{_}\\def\\leqno(#1){}\n",
       "\\def\\erf{\\mathrm{erf}}\\def\\sinh{\\mathrm{sinh}}\n",
       "\\def\\zag#1#2{{{\\left.{#1}\\right|}\\over{\\left|{#2}\\right.}}}\n",
       "\\def\\csch{\\mathrm{csch}}\n",
       "\\require{color}\n",
       "\\)\n",
       "\n",
       "$$\n",
       "\\left[\n",
       "{25}, \\: {64} \n",
       "\\right]\n",
       "\\leqno(NIL)\n",
       "$$\n",
       "\n",
       "\n",
       "\\(\\\\[3ex]\\color{blue}\\scriptsize\\text{RationalInterval}\\)\n"
      ],
      "text/plain": [
       "   [25,64]\n",
       "                                                       Type: RationalInterval\n"
      ]
     },
     "execution_count": 20,
     "metadata": {},
     "output_type": "execute_result"
    }
   ],
   "source": [
    "B^2"
   ]
  },
  {
   "cell_type": "code",
   "execution_count": 21,
   "metadata": {
    "collapsed": false
   },
   "outputs": [
    {
     "name": "stderr",
     "output_type": "stream",
     "text": [
      "TYPE-ERROR: \n",
      "  #<TYPE-ERROR expected-type: CONS datum: NIL>\n"
     ]
    },
    {
     "data": {
      "text/plain": []
     },
     "execution_count": 21,
     "metadata": {},
     "output_type": "execute_result"
    }
   ],
   "source": [
    "-- expecting an error\n",
    "A^2"
   ]
  },
  {
   "cell_type": "code",
   "execution_count": 22,
   "metadata": {
    "collapsed": false
   },
   "outputs": [
    {
     "data": {
      "text/latex": [
       "\\(\n",
       "\\def\\sp{^}\\def\\sb{_}\\def\\leqno(#1){}\n",
       "\\def\\erf{\\mathrm{erf}}\\def\\sinh{\\mathrm{sinh}}\n",
       "\\def\\zag#1#2{{{\\left.{#1}\\right|}\\over{\\left|{#2}\\right.}}}\n",
       "\\def\\csch{\\mathrm{csch}}\n",
       "\\require{color}\n",
       "\\)\n",
       "\n",
       "$$\n",
       "\\left[\n",
       "-1, \\: 8 \n",
       "\\right]\n",
       "\\leqno(NIL)\n",
       "$$\n",
       "\n",
       "\n",
       "\\(\\\\[3ex]\\color{blue}\\scriptsize\\text{RationalInterval}\\)\n"
      ],
      "text/plain": [
       "   [- 1,8]\n",
       "                                                       Type: RationalInterval\n"
      ]
     },
     "execution_count": 22,
     "metadata": {},
     "output_type": "execute_result"
    }
   ],
   "source": [
    "-- however: A^3\n",
    "A^3"
   ]
  },
  {
   "cell_type": "code",
   "execution_count": 23,
   "metadata": {
    "collapsed": false
   },
   "outputs": [
    {
     "data": {
      "text/latex": [
       "\\(\n",
       "\\def\\sp{^}\\def\\sb{_}\\def\\leqno(#1){}\n",
       "\\def\\erf{\\mathrm{erf}}\\def\\sinh{\\mathrm{sinh}}\n",
       "\\def\\zag#1#2{{{\\left.{#1}\\right|}\\over{\\left|{#2}\\right.}}}\n",
       "\\def\\csch{\\mathrm{csch}}\n",
       "\\require{color}\n",
       "\\)\n",
       "\n",
       "$$\n",
       "\\left[\n",
       "{125}, \\: {512} \n",
       "\\right]\n",
       "\\leqno(NIL)\n",
       "$$\n",
       "\n",
       "\n",
       "\\(\\\\[3ex]\\color{blue}\\scriptsize\\text{RationalInterval}\\)\n"
      ],
      "text/plain": [
       "   [125,512]\n",
       "                                                       Type: RationalInterval\n"
      ]
     },
     "execution_count": 23,
     "metadata": {},
     "output_type": "execute_result"
    }
   ],
   "source": [
    "B^3"
   ]
  },
  {
   "cell_type": "markdown",
   "metadata": {},
   "source": [
    "It is obvious that intervals containing `0` properly cannot exponentiated by even integers. Also acting as denominator is usually **not** possible."
   ]
  },
  {
   "cell_type": "markdown",
   "metadata": {},
   "source": [
    "##### Absolute value (`abs`)"
   ]
  },
  {
   "cell_type": "code",
   "execution_count": 24,
   "metadata": {
    "collapsed": false
   },
   "outputs": [
    {
     "data": {
      "text/latex": [
       "\\(\n",
       "\\def\\sp{^}\\def\\sb{_}\\def\\leqno(#1){}\n",
       "\\def\\erf{\\mathrm{erf}}\\def\\sinh{\\mathrm{sinh}}\n",
       "\\def\\zag#1#2{{{\\left.{#1}\\right|}\\over{\\left|{#2}\\right.}}}\n",
       "\\def\\csch{\\mathrm{csch}}\n",
       "\\require{color}\n",
       "\\)\n",
       "\n",
       "$$\n",
       "\\left[\n",
       "0, \\: 2 \n",
       "\\right]\n",
       "\\leqno(NIL)\n",
       "$$\n",
       "\n",
       "\n",
       "\\(\\\\[3ex]\\color{blue}\\scriptsize\\text{RationalInterval}\\)\n"
      ],
      "text/plain": [
       "   [0,2]\n",
       "                                                       Type: RationalInterval\n"
      ]
     },
     "execution_count": 24,
     "metadata": {},
     "output_type": "execute_result"
    }
   ],
   "source": [
    "abs A"
   ]
  },
  {
   "cell_type": "code",
   "execution_count": 25,
   "metadata": {
    "collapsed": false
   },
   "outputs": [
    {
     "data": {
      "text/latex": [
       "\\(\n",
       "\\def\\sp{^}\\def\\sb{_}\\def\\leqno(#1){}\n",
       "\\def\\erf{\\mathrm{erf}}\\def\\sinh{\\mathrm{sinh}}\n",
       "\\def\\zag#1#2{{{\\left.{#1}\\right|}\\over{\\left|{#2}\\right.}}}\n",
       "\\def\\csch{\\mathrm{csch}}\n",
       "\\require{color}\n",
       "\\)\n",
       "\n",
       "$$\n",
       "\\left[\n",
       "5, \\: 8 \n",
       "\\right]\n",
       "\\leqno(NIL)\n",
       "$$\n",
       "\n",
       "\n",
       "\\(\\\\[3ex]\\color{blue}\\scriptsize\\text{RationalInterval}\\)\n"
      ],
      "text/plain": [
       "   [5,8]\n",
       "                                                       Type: RationalInterval\n"
      ]
     },
     "execution_count": 25,
     "metadata": {},
     "output_type": "execute_result"
    }
   ],
   "source": [
    "abs B"
   ]
  },
  {
   "cell_type": "code",
   "execution_count": 26,
   "metadata": {
    "collapsed": false
   },
   "outputs": [
    {
     "data": {
      "text/latex": [
       "\\(\n",
       "\\def\\sp{^}\\def\\sb{_}\\def\\leqno(#1){}\n",
       "\\def\\erf{\\mathrm{erf}}\\def\\sinh{\\mathrm{sinh}}\n",
       "\\def\\zag#1#2{{{\\left.{#1}\\right|}\\over{\\left|{#2}\\right.}}}\n",
       "\\def\\csch{\\mathrm{csch}}\n",
       "\\require{color}\n",
       "\\)\n",
       "\n",
       "$$\n",
       "\\left[\n",
       "0, \\: {32} \n",
       "\\right]\n",
       "\\leqno(NIL)\n",
       "$$\n",
       "\n",
       "\n",
       "\\(\\\\[3ex]\\color{blue}\\scriptsize\\text{RationalInterval}\\)\n"
      ],
      "text/plain": [
       "   [0,32]\n",
       "                                                       Type: RationalInterval\n"
      ]
     },
     "execution_count": 26,
     "metadata": {},
     "output_type": "execute_result"
    }
   ],
   "source": [
    "abs (A^5)"
   ]
  },
  {
   "cell_type": "markdown",
   "metadata": {},
   "source": [
    "##### Elt"
   ]
  },
  {
   "cell_type": "markdown",
   "metadata": {},
   "source": [
    "The operation **`elt`** means scaling the inteval by a rational number:"
   ]
  },
  {
   "cell_type": "code",
   "execution_count": 27,
   "metadata": {
    "collapsed": false
   },
   "outputs": [
    {
     "data": {
      "text/latex": [
       "\\(\n",
       "\\def\\sp{^}\\def\\sb{_}\\def\\leqno(#1){}\n",
       "\\def\\erf{\\mathrm{erf}}\\def\\sinh{\\mathrm{sinh}}\n",
       "\\def\\zag#1#2{{{\\left.{#1}\\right|}\\over{\\left|{#2}\\right.}}}\n",
       "\\def\\csch{\\mathrm{csch}}\n",
       "\\require{color}\n",
       "\\)\n",
       "\n",
       "$$\n",
       "\\left[\n",
       "-{2 \\over 3}, \\: {4 \\over 3} \n",
       "\\right]\n",
       "\\leqno(NIL)\n",
       "$$\n",
       "\n",
       "\n",
       "\\(\\\\[3ex]\\color{blue}\\scriptsize\\text{RationalInterval}\\)\n"
      ],
      "text/plain": [
       "      2 4\n",
       "   [- -,-]\n",
       "      3 3\n",
       "                                                       Type: RationalInterval\n"
      ]
     },
     "execution_count": 27,
     "metadata": {},
     "output_type": "execute_result"
    }
   ],
   "source": [
    "(2/3) A"
   ]
  },
  {
   "cell_type": "code",
   "execution_count": 28,
   "metadata": {
    "collapsed": false
   },
   "outputs": [
    {
     "data": {
      "text/latex": [
       "\\(\n",
       "\\def\\sp{^}\\def\\sb{_}\\def\\leqno(#1){}\n",
       "\\def\\erf{\\mathrm{erf}}\\def\\sinh{\\mathrm{sinh}}\n",
       "\\def\\zag#1#2{{{\\left.{#1}\\right|}\\over{\\left|{#2}\\right.}}}\n",
       "\\def\\csch{\\mathrm{csch}}\n",
       "\\require{color}\n",
       "\\)\n",
       "\n",
       "$$\n",
       "\\left[\n",
       "{25}, \\: {40} \n",
       "\\right]\n",
       "\\leqno(NIL)\n",
       "$$\n",
       "\n",
       "\n",
       "\\(\\\\[3ex]\\color{blue}\\scriptsize\\text{RationalInterval}\\)\n"
      ],
      "text/plain": [
       "   [25,40]\n",
       "                                                       Type: RationalInterval\n"
      ]
     },
     "execution_count": 28,
     "metadata": {},
     "output_type": "execute_result"
    }
   ],
   "source": [
    "5 B"
   ]
  },
  {
   "cell_type": "code",
   "execution_count": 29,
   "metadata": {
    "collapsed": false
   },
   "outputs": [
    {
     "data": {
      "text/latex": [
       "\\(\n",
       "\\def\\sp{^}\\def\\sb{_}\\def\\leqno(#1){}\n",
       "\\def\\erf{\\mathrm{erf}}\\def\\sinh{\\mathrm{sinh}}\n",
       "\\def\\zag#1#2{{{\\left.{#1}\\right|}\\over{\\left|{#2}\\right.}}}\n",
       "\\def\\csch{\\mathrm{csch}}\n",
       "\\require{color}\n",
       "\\)\n",
       "\n",
       "$$\n",
       "\\left[\n",
       "{12}, \\: {30} \n",
       "\\right]\n",
       "\\leqno(NIL)\n",
       "$$\n",
       "\n",
       "\n",
       "\\(\\\\[3ex]\\color{blue}\\scriptsize\\text{RationalInterval}\\)\n"
      ],
      "text/plain": [
       "   [12,30]\n",
       "                                                       Type: RationalInterval\n"
      ]
     },
     "execution_count": 29,
     "metadata": {},
     "output_type": "execute_result"
    }
   ],
   "source": [
    "3 (A+B)"
   ]
  },
  {
   "cell_type": "code",
   "execution_count": 30,
   "metadata": {
    "collapsed": false
   },
   "outputs": [
    {
     "data": {
      "text/latex": [
       "\\(\n",
       "\\def\\sp{^}\\def\\sb{_}\\def\\leqno(#1){}\n",
       "\\def\\erf{\\mathrm{erf}}\\def\\sinh{\\mathrm{sinh}}\n",
       "\\def\\zag#1#2{{{\\left.{#1}\\right|}\\over{\\left|{#2}\\right.}}}\n",
       "\\def\\csch{\\mathrm{csch}}\n",
       "\\require{color}\n",
       "\\)\n",
       "\n",
       "$$\n",
       "8 \n",
       "\\leqno(NIL)\n",
       "$$\n",
       "\n",
       "$$\n",
       "\\left[\n",
       "-{{6254156} \\over {502073}}, \\: {{12508312} \\over {502073}} \n",
       "\\right]\n",
       "\\leqno(NIL)\n",
       "$$\n",
       "\n",
       "\n",
       "\\(\\\\[3ex]\\color{blue}\\scriptsize\\text{RationalInterval}\\)\n"
      ],
      "text/plain": [
       "   8\n",
       "                                                        Type: PositiveInteger\n",
       "      6254156 12508312\n",
       "   [- -------,--------]\n",
       "       502073  502073\n",
       "                                                       Type: RationalInterval\n"
      ]
     },
     "execution_count": 30,
     "metadata": {},
     "output_type": "execute_result"
    }
   ],
   "source": [
    "digits(10)\n",
    "(12.45666666::Q) A"
   ]
  },
  {
   "cell_type": "markdown",
   "metadata": {},
   "source": [
    "There are `coercions` from Float and `DF` (DoubleFloat) to type `RIA` which are not very useful in this context but are useful in other packages:"
   ]
  },
  {
   "cell_type": "markdown",
   "metadata": {},
   "source": [
    "#### Coercions and pitfalls"
   ]
  },
  {
   "cell_type": "code",
   "execution_count": 31,
   "metadata": {
    "collapsed": false
   },
   "outputs": [
    {
     "data": {
      "text/latex": [
       "\\(\n",
       "\\def\\sp{^}\\def\\sb{_}\\def\\leqno(#1){}\n",
       "\\def\\erf{\\mathrm{erf}}\\def\\sinh{\\mathrm{sinh}}\n",
       "\\def\\zag#1#2{{{\\left.{#1}\\right|}\\over{\\left|{#2}\\right.}}}\n",
       "\\def\\csch{\\mathrm{csch}}\n",
       "\\require{color}\n",
       "\\)\n",
       "\n",
       "$$\n",
       "\\left[\n",
       "{{50737} \\over {41097}}, \\: {{50737} \\over {41097}} \n",
       "\\right]\n",
       "\\leqno(NIL)\n",
       "$$\n",
       "\n",
       "\n",
       "\\(\\\\[3ex]\\color{blue}\\scriptsize\\text{RationalInterval}\\)\n"
      ],
      "text/plain": [
       "    50737 50737\n",
       "   [-----,-----]\n",
       "    41097 41097\n",
       "                                                       Type: RationalInterval\n"
      ]
     },
     "execution_count": 31,
     "metadata": {},
     "output_type": "execute_result"
    }
   ],
   "source": [
    "-- Attention: Float type depends on precision, digits ...\n",
    "1.234567::RIA"
   ]
  },
  {
   "cell_type": "code",
   "execution_count": 32,
   "metadata": {
    "collapsed": false
   },
   "outputs": [
    {
     "data": {
      "text/latex": [
       "\\(\n",
       "\\def\\sp{^}\\def\\sb{_}\\def\\leqno(#1){}\n",
       "\\def\\erf{\\mathrm{erf}}\\def\\sinh{\\mathrm{sinh}}\n",
       "\\def\\zag#1#2{{{\\left.{#1}\\right|}\\over{\\left|{#2}\\right.}}}\n",
       "\\def\\csch{\\mathrm{csch}}\n",
       "\\require{color}\n",
       "\\)\n",
       "\n",
       "$$\n",
       "10 \n",
       "\\leqno(NIL)\n",
       "$$\n",
       "\n",
       "$$\n",
       "\\left[\n",
       "{{118164173} \\over {95713050}}, \\: {{118164173} \\over {95713050}} \n",
       "\\right]\n",
       "\\leqno(NIL)\n",
       "$$\n",
       "\n",
       "\n",
       "\\(\\\\[3ex]\\color{blue}\\scriptsize\\text{RationalInterval}\\)\n"
      ],
      "text/plain": [
       "   10\n",
       "                                                        Type: PositiveInteger\n",
       "    118164173 118164173\n",
       "   [---------,---------]\n",
       "     95713050  95713050\n",
       "                                                       Type: RationalInterval\n"
      ]
     },
     "execution_count": 32,
     "metadata": {},
     "output_type": "execute_result"
    }
   ],
   "source": [
    "digits(10)\n",
    "1.234567::DoubleFloat::RIA"
   ]
  },
  {
   "cell_type": "code",
   "execution_count": 33,
   "metadata": {
    "collapsed": false
   },
   "outputs": [
    {
     "data": {
      "text/latex": [
       "\\(\n",
       "\\def\\sp{^}\\def\\sb{_}\\def\\leqno(#1){}\n",
       "\\def\\erf{\\mathrm{erf}}\\def\\sinh{\\mathrm{sinh}}\n",
       "\\def\\zag#1#2{{{\\left.{#1}\\right|}\\over{\\left|{#2}\\right.}}}\n",
       "\\def\\csch{\\mathrm{csch}}\n",
       "\\require{color}\n",
       "\\)\n",
       "\n",
       "$$\n",
       "10 \n",
       "\\leqno(NIL)\n",
       "$$\n",
       "\n",
       "$$\n",
       "\\left[\n",
       "{{1234567} \\over {1000000}}, \\: {{1234567} \\over {1000000}} \n",
       "\\right]\n",
       "\\leqno(NIL)\n",
       "$$\n",
       "\n",
       "\n",
       "\\(\\\\[3ex]\\color{blue}\\scriptsize\\text{RationalInterval}\\)\n"
      ],
      "text/plain": [
       "   10\n",
       "                                                        Type: PositiveInteger\n",
       "    1234567 1234567\n",
       "   [-------,-------]\n",
       "    1000000 1000000\n",
       "                                                       Type: RationalInterval\n"
      ]
     },
     "execution_count": 33,
     "metadata": {},
     "output_type": "execute_result"
    }
   ],
   "source": [
    "digits(20) -- note difference\n",
    "1.234567::DoubleFloat::RIA"
   ]
  },
  {
   "cell_type": "code",
   "execution_count": 34,
   "metadata": {
    "collapsed": false
   },
   "outputs": [
    {
     "data": {
      "text/latex": [
       "\\(\n",
       "\\def\\sp{^}\\def\\sb{_}\\def\\leqno(#1){}\n",
       "\\def\\erf{\\mathrm{erf}}\\def\\sinh{\\mathrm{sinh}}\n",
       "\\def\\zag#1#2{{{\\left.{#1}\\right|}\\over{\\left|{#2}\\right.}}}\n",
       "\\def\\csch{\\mathrm{csch}}\n",
       "\\require{color}\n",
       "\\)\n",
       "\n",
       "$$\n",
       "1.5707963267948966 \n",
       "\\leqno(NIL)\n",
       "$$\n",
       "\n",
       "\n",
       "\\(\\\\[3ex]\\color{blue}\\scriptsize\\text{DoubleFloat}\\)\n"
      ],
      "text/plain": [
       "   1.5707963267948966\n",
       "                                                            Type: DoubleFloat\n"
      ]
     },
     "execution_count": 34,
     "metadata": {},
     "output_type": "execute_result"
    }
   ],
   "source": [
    "r:DoubleFloat:=%pi/2"
   ]
  },
  {
   "cell_type": "code",
   "execution_count": 35,
   "metadata": {
    "collapsed": false
   },
   "outputs": [
    {
     "data": {
      "text/latex": [
       "\\(\n",
       "\\def\\sp{^}\\def\\sb{_}\\def\\leqno(#1){}\n",
       "\\def\\erf{\\mathrm{erf}}\\def\\sinh{\\mathrm{sinh}}\n",
       "\\def\\zag#1#2{{{\\left.{#1}\\right|}\\over{\\left|{#2}\\right.}}}\n",
       "\\def\\csch{\\mathrm{csch}}\n",
       "\\require{color}\n",
       "\\)\n",
       "\n",
       "$$\n",
       "\\left[\n",
       "{{80143857} \\over {51021164}}, \\: {{80143857} \\over {51021164}} \n",
       "\\right]\n",
       "\\leqno(NIL)\n",
       "$$\n",
       "\n",
       "\n",
       "\\(\\\\[3ex]\\color{blue}\\scriptsize\\text{RationalInterval}\\)\n"
      ],
      "text/plain": [
       "    80143857 80143857\n",
       "   [--------,--------]\n",
       "    51021164 51021164\n",
       "                                                       Type: RationalInterval\n"
      ]
     },
     "execution_count": 35,
     "metadata": {},
     "output_type": "execute_result"
    }
   ],
   "source": [
    "r::RIA"
   ]
  },
  {
   "cell_type": "markdown",
   "metadata": {},
   "source": [
    "### Show RIA"
   ]
  },
  {
   "cell_type": "code",
   "execution_count": 36,
   "metadata": {
    "collapsed": false
   },
   "outputs": [
    {
     "name": "stdout",
     "output_type": "stream",
     "text": [
      " RationalInterval  is a domain constructor\n",
      " Abbreviation for RationalInterval is RIA \n",
      " This constructor is exposed in this frame.\n",
      "------------------------------- Operations --------------------------------\n",
      " ?*? : (%,%) -> %                      ?+? : (%,%) -> %\n",
      " -? : % -> %                           ?-? : (%,%) -> %\n",
      " ?/? : (%,%) -> %                      ?^? : (%,Integer) -> %\n",
      " abs : % -> %                          coerce : DecimalExpansion -> %\n",
      " coerce : DoubleFloat -> %             coerce : Float -> %\n",
      " coerce : % -> OutputForm              concise : % -> OutputForm\n",
      " convert : % -> String                 elt : (Fraction(Integer),%) -> %\n",
      " frep : % -> OutputForm                lb : % -> Fraction(Integer)\n",
      " len : % -> Fraction(Integer)          mid : % -> Fraction(Integer)\n",
      " tm_frep : % -> OutputForm             ub : % -> Fraction(Integer)\n",
      " coerce : List(Fraction(Integer)) -> %\n",
      " mki : (Fraction(Integer),Fraction(Integer)) -> %\n",
      "\n"
     ]
    },
    {
     "data": {
      "text/plain": []
     },
     "execution_count": 36,
     "metadata": {},
     "output_type": "execute_result"
    }
   ],
   "source": [
    ")show RIA"
   ]
  },
  {
   "cell_type": "markdown",
   "metadata": {
    "collapsed": true
   },
   "source": [
    "### Decimal Expansions\n",
    "While `Float` implements arbitrary precision floating point arithmetic, `DoubleFloat` is intended to make accessible hardware floating point arithmetic, either native double precision, or IEEE. \n",
    "\n",
    "Many operations are not expected to be fully accurate when using `DoubleFloat`. In particular, `sin` and `cos` will lose all precision for large arguments. The `Float` domain provides an alternative to the `DoubleFloat` domain. It provides an arbitrary precision model of floating point arithmetic. This means that accuracy problems are eliminated by increasing the working precision where necessary. `Float` provides some special functions such as `erf`, the error function in addition to the elementary functions. The disadvantage of `Float` is that it is much more expensive than small floats when the latter can be used. **Note** that for big numbers `DoubleFloat` may overflow!\n",
    "\n",
    "Another useful `type` is `DecimalExpansion`:  allows rational numbers to be presented as repeating decimal expansions.\n"
   ]
  },
  {
   "cell_type": "code",
   "execution_count": 37,
   "metadata": {
    "collapsed": false
   },
   "outputs": [
    {
     "data": {
      "text/latex": [
       "\\(\n",
       "\\def\\sp{^}\\def\\sb{_}\\def\\leqno(#1){}\n",
       "\\def\\erf{\\mathrm{erf}}\\def\\sinh{\\mathrm{sinh}}\n",
       "\\def\\zag#1#2{{{\\left.{#1}\\right|}\\over{\\left|{#2}\\right.}}}\n",
       "\\def\\csch{\\mathrm{csch}}\n",
       "\\require{color}\n",
       "\\)\n",
       "\n",
       "\n",
       "\\(\\\\[3ex]\\color{blue}\\scriptsize\\text{Void}\\)\n"
      ],
      "text/plain": [
       "                                                                   Type: Void\n"
      ]
     },
     "execution_count": 37,
     "metadata": {},
     "output_type": "execute_result"
    }
   ],
   "source": [
    "DE ==> DecimalExpansion"
   ]
  },
  {
   "cell_type": "code",
   "execution_count": 38,
   "metadata": {
    "collapsed": false
   },
   "outputs": [
    {
     "data": {
      "text/latex": [
       "\\(\n",
       "\\def\\sp{^}\\def\\sb{_}\\def\\leqno(#1){}\n",
       "\\def\\erf{\\mathrm{erf}}\\def\\sinh{\\mathrm{sinh}}\n",
       "\\def\\zag#1#2{{{\\left.{#1}\\right|}\\over{\\left|{#2}\\right.}}}\n",
       "\\def\\csch{\\mathrm{csch}}\n",
       "\\require{color}\n",
       "\\)\n",
       "\n",
       "$$\n",
       "0.{\\overline 3} \n",
       "\\leqno(NIL)\n",
       "$$\n",
       "\n",
       "\n",
       "\\(\\\\[3ex]\\color{blue}\\scriptsize\\text{DecimalExpansion}\\)\n"
      ],
      "text/plain": [
       "     _\n",
       "   0.3\n",
       "                                                       Type: DecimalExpansion\n"
      ]
     },
     "execution_count": 38,
     "metadata": {},
     "output_type": "execute_result"
    }
   ],
   "source": [
    "1/3::DE"
   ]
  },
  {
   "cell_type": "code",
   "execution_count": 39,
   "metadata": {
    "collapsed": false
   },
   "outputs": [
    {
     "data": {
      "text/latex": [
       "\\(\n",
       "\\def\\sp{^}\\def\\sb{_}\\def\\leqno(#1){}\n",
       "\\def\\erf{\\mathrm{erf}}\\def\\sinh{\\mathrm{sinh}}\n",
       "\\def\\zag#1#2{{{\\left.{#1}\\right|}\\over{\\left|{#2}\\right.}}}\n",
       "\\def\\csch{\\mathrm{csch}}\n",
       "\\require{color}\n",
       "\\)\n",
       "\n",
       "$$\n",
       "{12}.{34567} \n",
       "\\leqno(NIL)\n",
       "$$\n",
       "\n",
       "\n",
       "\\(\\\\[3ex]\\color{blue}\\scriptsize\\text{DecimalExpansion}\\)\n"
      ],
      "text/plain": [
       "   12.34567\n",
       "                                                       Type: DecimalExpansion\n"
      ]
     },
     "execution_count": 39,
     "metadata": {},
     "output_type": "execute_result"
    }
   ],
   "source": [
    "d:=1234567/100000::DE"
   ]
  },
  {
   "cell_type": "code",
   "execution_count": 40,
   "metadata": {
    "collapsed": false
   },
   "outputs": [
    {
     "data": {
      "text/latex": [
       "\\(\n",
       "\\def\\sp{^}\\def\\sb{_}\\def\\leqno(#1){}\n",
       "\\def\\erf{\\mathrm{erf}}\\def\\sinh{\\mathrm{sinh}}\n",
       "\\def\\zag#1#2{{{\\left.{#1}\\right|}\\over{\\left|{#2}\\right.}}}\n",
       "\\def\\csch{\\mathrm{csch}}\n",
       "\\require{color}\n",
       "\\)\n",
       "\n",
       "$$\n",
       "\\left[\n",
       "{{1234567} \\over {100000}}, \\: {{1234567} \\over {100000}} \n",
       "\\right]\n",
       "\\leqno(NIL)\n",
       "$$\n",
       "\n",
       "\n",
       "\\(\\\\[3ex]\\color{blue}\\scriptsize\\text{RationalInterval}\\)\n"
      ],
      "text/plain": [
       "    1234567 1234567\n",
       "   [-------,-------]\n",
       "     100000  100000\n",
       "                                                       Type: RationalInterval\n"
      ]
     },
     "execution_count": 40,
     "metadata": {},
     "output_type": "execute_result"
    }
   ],
   "source": [
    "d::RIA"
   ]
  },
  {
   "cell_type": "code",
   "execution_count": 41,
   "metadata": {
    "collapsed": false
   },
   "outputs": [
    {
     "data": {
      "text/latex": [
       "\\(\n",
       "\\def\\sp{^}\\def\\sb{_}\\def\\leqno(#1){}\n",
       "\\def\\erf{\\mathrm{erf}}\\def\\sinh{\\mathrm{sinh}}\n",
       "\\def\\zag#1#2{{{\\left.{#1}\\right|}\\over{\\left|{#2}\\right.}}}\n",
       "\\def\\csch{\\mathrm{csch}}\n",
       "\\require{color}\n",
       "\\)\n",
       "\n",
       "$$\n",
       "12.34567 \n",
       "\\leqno(NIL)\n",
       "$$\n",
       "\n",
       "$$\n",
       "12.34567 \n",
       "\\leqno(NIL)\n",
       "$$\n",
       "\n",
       "\n",
       "\\(\\\\[3ex]\\color{blue}\\scriptsize\\text{DoubleFloat}\\)\n"
      ],
      "text/plain": [
       "   12.34567\n",
       "                                                                  Type: Float\n",
       "   12.34567\n",
       "                                                            Type: DoubleFloat\n"
      ]
     },
     "execution_count": 41,
     "metadata": {},
     "output_type": "execute_result"
    }
   ],
   "source": [
    "d::Float\n",
    "d::DoubleFloat"
   ]
  },
  {
   "cell_type": "code",
   "execution_count": null,
   "metadata": {
    "collapsed": true
   },
   "outputs": [],
   "source": []
  }
 ],
 "metadata": {
  "kernelspec": {
   "display_name": "FriCAS",
   "language": "spad",
   "name": "ifricas"
  },
  "language_info": {
   "codemirror_mode": "spad",
   "mimetype": "text/x-spad",
   "name": "SPAD",
   "pygments_lexer": "spad",
   "version": "1.2.6"
  }
 },
 "nbformat": 4,
 "nbformat_minor": 0
}
