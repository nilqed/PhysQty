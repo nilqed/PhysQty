{
 "cells": [
  {
   "cell_type": "markdown",
   "metadata": {},
   "source": [
    "# PQTY - Physical Quantities\n",
    "\n",
    ">A physical quantity is a property of a phenomenon, body, or substance,\n",
    ">where the property has a magnitude that can be expressed as a number and a reference\n",
    "\n",
    "Source: [International vocabulary of metrology](http://www.bipm.org/utils/common/documents/jcgm/JCGM_200_2012.pdf)\n",
    "\n",
    "##### General Information :: Links\n",
    "* Bureau International des Poids et Mesures [BIPM](http://www.bipm.org)\n",
    "* National Institute of Standards and Technology [NIST](http://www.nist.gov/)\n",
    "\n",
    "\n",
    "The domain PhysQty (abbrev. PQTY) implements physical quantities. The implementation is based on the following category and domains:\n",
    "\n",
    "* Rational interval arithmetics ... [RIA](RIA.html)\n",
    "* Category `PhysicalUnit` ... [PUNIT](PUNIT.html)\n",
    "* SI Units ... [SI](SI.html)\n",
    "\n",
    "## General Form\n",
    "\n",
    "A physical quantity in PQTY comprises three components:\n",
    "\n",
    "* `v`, value (rational)\n",
    "* `e`, uncertainty (rational)\n",
    "* `u`, unit (e.g. type SI_UNIT)\n",
    "\n",
    "All base calculations are done by interval propagation of the interval `[v-e,v+e]`. Thus an element of the type `PhysQty` has the form $[v-e,v+e] \\times u$. \n",
    "\n",
    "\n",
    "## Constructors and query functions\n",
    "\n",
    "        pqty: (Q, Q, U) -> %    \n",
    "        \n",
    "        pqtyValue: % -> Q  -- get the value\n",
    "        pqtyError: % -> Q  -- get the uncertainty\n",
    "        pqtyUnit:  % -> U  -- get the unit\n",
    "        \n",
    "        pqtyInterval: % -> QI  -- get the interval [v-delta,v+delta]\n",
    "        pqtyScale: (%,Q) -> %  -- scale by rational number\n",
    "\n",
    "\n",
    "## Basic Operations\n",
    "\n",
    "        \"*\": (%,%) -> %\n",
    "        \"/\": (%,%) -> %\n",
    "        \"+\": (%,%) -> %\n",
    "        \"-\": (%,%) -> %\n",
    "        \"^\": (%,Integer) -> %\n",
    "        \"-\":  % -> %\n",
    "        elt: (Q, %) -> %\n",
    "        elt: (QI,U) -> %\n",
    "        elt: (Union(Q,F,R,I),U) -> %\n",
    "        coerce : % -> OutputForm\n",
    "\n",
    "\n",
    "In order to use the libary we have to load it and all its dependencies:"
   ]
  },
  {
   "cell_type": "code",
   "execution_count": 1,
   "metadata": {
    "collapsed": false
   },
   "outputs": [
    {
     "name": "stdout",
     "output_type": "stream",
     "text": [
      "   RationalInterval is now explicitly exposed in frame initial \n",
      "   RationalInterval will be automatically loaded when needed from \n",
      "      /home/kfp/Development/physqty/Untitled Folder/RIA.NRLIB/RIA\n",
      "   PhysicalUnit is now explicitly exposed in frame initial \n",
      "   PhysicalUnit will be automatically loaded when needed from \n",
      "      /home/kfp/Development/physqty/Untitled Folder/PUNIT.NRLIB/PUNIT\n",
      "   SIunit is now explicitly exposed in frame initial \n",
      "   SIunit will be automatically loaded when needed from \n",
      "      /home/kfp/Development/physqty/Untitled Folder/SI.NRLIB/SI\n",
      "   PhysQty is now explicitly exposed in frame initial \n",
      "   PhysQty will be automatically loaded when needed from \n",
      "      /home/kfp/Development/physqty/Untitled Folder/PQTY.NRLIB/PQTY\n",
      "\n"
     ]
    },
    {
     "data": {
      "text/plain": []
     },
     "execution_count": 1,
     "metadata": {},
     "output_type": "execute_result"
    }
   ],
   "source": [
    ")lib RIA PUNIT SI PQTY"
   ]
  },
  {
   "cell_type": "code",
   "execution_count": 2,
   "metadata": {
    "collapsed": false
   },
   "outputs": [
    {
     "data": {
      "text/latex": [
       "\\(\n",
       "\\def\\sp{^}\\def\\sb{_}\\def\\leqno(#1){}\n",
       "\\def\\erf{\\mathrm{erf}}\\def\\sinh{\\mathrm{sinh}}\n",
       "\\def\\zag#1#2{{{\\left.{#1}\\right|}\\over{\\left|{#2}\\right.}}}\n",
       "\\def\\csch{\\mathrm{csch}}\n",
       "\\require{color}\n",
       "\\)\n",
       "\n",
       "\n",
       "\\(\\\\[3ex]\\color{blue}\\scriptsize\\text{Void}\\)\n"
      ],
      "text/plain": [
       "                                                                   Type: Void\n"
      ]
     },
     "execution_count": 2,
     "metadata": {},
     "output_type": "execute_result"
    }
   ],
   "source": [
    ")set output tex on\n",
    "Q ==> Fraction Integer"
   ]
  },
  {
   "cell_type": "markdown",
   "metadata": {},
   "source": [
    "## pqty - the main constructor \n",
    "\n",
    "For instance let us create the quantity $g=9.81\\pm0.05 \\frac{m}{s^2}$:"
   ]
  },
  {
   "cell_type": "code",
   "execution_count": 3,
   "metadata": {
    "collapsed": false
   },
   "outputs": [
    {
     "name": "stdout",
     "output_type": "stream",
     "text": [
      "Warning: HyperTeX macro table not found\n"
     ]
    },
    {
     "data": {
      "text/latex": [
       "\\(\n",
       "\\def\\sp{^}\\def\\sb{_}\\def\\leqno(#1){}\n",
       "\\def\\erf{\\mathrm{erf}}\\def\\sinh{\\mathrm{sinh}}\n",
       "\\def\\zag#1#2{{{\\left.{#1}\\right|}\\over{\\left|{#2}\\right.}}}\n",
       "\\def\\csch{\\mathrm{csch}}\n",
       "\\require{color}\n",
       "\\)\n",
       "\n",
       "$$\n",
       "{{9.81}{\\ }±{\\ }{0.05}}{\\ }{{{{m} \\sp {1}}}{{s} \\sp {-2}}} \n",
       "\\leqno(NIL)\n",
       "$$\n",
       "\n",
       "\n",
       "\\(\\\\[3ex]\\color{blue}\\scriptsize\\text{PhysQty(SIunit)}\\)\n"
      ],
      "text/plain": [
       "                1 - 2\n",
       "   9.81 ± 0.05 m s\n",
       "                                                        Type: PhysQty(SIunit)\n"
      ]
     },
     "execution_count": 3,
     "metadata": {},
     "output_type": "execute_result"
    }
   ],
   "source": [
    "g := pqty(9.81::Q, 0.05::Q, %m(1)/%s(2))"
   ]
  },
  {
   "cell_type": "markdown",
   "metadata": {},
   "source": [
    "Now `g` has type `PhysQty(SI_UNIT)`. If we had entered units of an other system we would get a different representation, for instance of type `PhysQty(CGS_UNIT)`, however, still the same object. \n",
    "\n",
    "**Note**: all numeric arguments in `PQTY` have to be rationals, although this might not be seen on first sight. Either one has to `coerce` the figures oneself or it will be done automatically by certain `elt` functions.\n",
    "\n",
    "How can we recover `u,v,e` from the object `g`?\n",
    "\n",
    "#### pqty_interval"
   ]
  },
  {
   "cell_type": "code",
   "execution_count": 4,
   "metadata": {
    "collapsed": false
   },
   "outputs": [
    {
     "data": {
      "text/latex": [
       "\\(\n",
       "\\def\\sp{^}\\def\\sb{_}\\def\\leqno(#1){}\n",
       "\\def\\erf{\\mathrm{erf}}\\def\\sinh{\\mathrm{sinh}}\n",
       "\\def\\zag#1#2{{{\\left.{#1}\\right|}\\over{\\left|{#2}\\right.}}}\n",
       "\\def\\csch{\\mathrm{csch}}\n",
       "\\require{color}\n",
       "\\)\n",
       "\n",
       "$$\n",
       "\\left[\n",
       "{{244} \\over {25}}, \\: {{493} \\over {50}} \n",
       "\\right]\n",
       "\\leqno(NIL)\n",
       "$$\n",
       "\n",
       "\n",
       "\\(\\\\[3ex]\\color{blue}\\scriptsize\\text{RationalInterval}\\)\n"
      ],
      "text/plain": [
       "    244 493\n",
       "   [---,---]\n",
       "     25  50\n",
       "                                                       Type: RationalInterval\n"
      ]
     },
     "execution_count": 4,
     "metadata": {},
     "output_type": "execute_result"
    }
   ],
   "source": [
    "pqtyInterval g"
   ]
  },
  {
   "cell_type": "markdown",
   "metadata": {},
   "source": [
    "Here we can see how the value $9.81\\pm 0.05$ has been converted to a rational interval. Now we could use the functions `lb,ub` from the domain `Q_INTERVAL` to get the lower and upper bound.\n",
    "\n",
    "####  pqty_value\n",
    "This function recovers the value:"
   ]
  },
  {
   "cell_type": "code",
   "execution_count": 5,
   "metadata": {
    "collapsed": false
   },
   "outputs": [
    {
     "data": {
      "text/latex": [
       "\\(\n",
       "\\def\\sp{^}\\def\\sb{_}\\def\\leqno(#1){}\n",
       "\\def\\erf{\\mathrm{erf}}\\def\\sinh{\\mathrm{sinh}}\n",
       "\\def\\zag#1#2{{{\\left.{#1}\\right|}\\over{\\left|{#2}\\right.}}}\n",
       "\\def\\csch{\\mathrm{csch}}\n",
       "\\require{color}\n",
       "\\)\n",
       "\n",
       "$$\n",
       "{981} \\over {100} \n",
       "\\leqno(NIL)\n",
       "$$\n",
       "\n",
       "\n",
       "\\(\\\\[3ex]\\color{blue}\\scriptsize\\text{Fraction(Integer)}\\)\n"
      ],
      "text/plain": [
       "   981\n",
       "   ---\n",
       "   100\n",
       "                                                      Type: Fraction(Integer)\n"
      ]
     },
     "execution_count": 5,
     "metadata": {},
     "output_type": "execute_result"
    }
   ],
   "source": [
    "pqtyValue g"
   ]
  },
  {
   "cell_type": "markdown",
   "metadata": {},
   "source": [
    "#### pqty_error\n",
    "This function recovers the uncertainty:"
   ]
  },
  {
   "cell_type": "code",
   "execution_count": 6,
   "metadata": {
    "collapsed": false
   },
   "outputs": [
    {
     "data": {
      "text/latex": [
       "\\(\n",
       "\\def\\sp{^}\\def\\sb{_}\\def\\leqno(#1){}\n",
       "\\def\\erf{\\mathrm{erf}}\\def\\sinh{\\mathrm{sinh}}\n",
       "\\def\\zag#1#2{{{\\left.{#1}\\right|}\\over{\\left|{#2}\\right.}}}\n",
       "\\def\\csch{\\mathrm{csch}}\n",
       "\\require{color}\n",
       "\\)\n",
       "\n",
       "$$\n",
       "1 \\over {20} \n",
       "\\leqno(NIL)\n",
       "$$\n",
       "\n",
       "\n",
       "\\(\\\\[3ex]\\color{blue}\\scriptsize\\text{Fraction(Integer)}\\)\n"
      ],
      "text/plain": [
       "    1\n",
       "   --\n",
       "   20\n",
       "                                                      Type: Fraction(Integer)\n"
      ]
     },
     "execution_count": 6,
     "metadata": {},
     "output_type": "execute_result"
    }
   ],
   "source": [
    "pqtyError g"
   ]
  },
  {
   "cell_type": "markdown",
   "metadata": {},
   "source": [
    "#### pqty_unit\n",
    "This function recovers the unit:"
   ]
  },
  {
   "cell_type": "code",
   "execution_count": 7,
   "metadata": {
    "collapsed": false
   },
   "outputs": [
    {
     "data": {
      "text/latex": [
       "\\(\n",
       "\\def\\sp{^}\\def\\sb{_}\\def\\leqno(#1){}\n",
       "\\def\\erf{\\mathrm{erf}}\\def\\sinh{\\mathrm{sinh}}\n",
       "\\def\\zag#1#2{{{\\left.{#1}\\right|}\\over{\\left|{#2}\\right.}}}\n",
       "\\def\\csch{\\mathrm{csch}}\n",
       "\\require{color}\n",
       "\\)\n",
       "\n",
       "$$\n",
       "{{{m} \\sp {1}}}{{s} \\sp {-2}} \n",
       "\\leqno(NIL)\n",
       "$$\n",
       "\n",
       "\n",
       "\\(\\\\[3ex]\\color{blue}\\scriptsize\\text{SIunit}\\)\n"
      ],
      "text/plain": [
       "    1 - 2\n",
       "   m s\n",
       "                                                                 Type: SIunit\n"
      ]
     },
     "execution_count": 7,
     "metadata": {},
     "output_type": "execute_result"
    }
   ],
   "source": [
    "pqtyUnit g"
   ]
  },
  {
   "cell_type": "markdown",
   "metadata": {},
   "source": [
    "pqty_scale\n",
    "If we want double the quantity `g` we can either use the constructor `pqty` to create the object `g2` or we may apply the scaling function to `g`:\n",
    "\n",
    "#### pqtyScale"
   ]
  },
  {
   "cell_type": "code",
   "execution_count": 8,
   "metadata": {
    "collapsed": false
   },
   "outputs": [
    {
     "data": {
      "text/latex": [
       "\\(\n",
       "\\def\\sp{^}\\def\\sb{_}\\def\\leqno(#1){}\n",
       "\\def\\erf{\\mathrm{erf}}\\def\\sinh{\\mathrm{sinh}}\n",
       "\\def\\zag#1#2{{{\\left.{#1}\\right|}\\over{\\left|{#2}\\right.}}}\n",
       "\\def\\csch{\\mathrm{csch}}\n",
       "\\require{color}\n",
       "\\)\n",
       "\n",
       "$$\n",
       "{{19.62}{\\ }±{\\ }{0.1}}{\\ }{{{{m} \\sp {1}}}{{s} \\sp {-2}}} \n",
       "\\leqno(NIL)\n",
       "$$\n",
       "\n",
       "\n",
       "\\(\\\\[3ex]\\color{blue}\\scriptsize\\text{PhysQty(SIunit)}\\)\n"
      ],
      "text/plain": [
       "                1 - 2\n",
       "   19.62 ± 0.1 m s\n",
       "                                                        Type: PhysQty(SIunit)\n"
      ]
     },
     "execution_count": 8,
     "metadata": {},
     "output_type": "execute_result"
    }
   ],
   "source": [
    "g2 := pqtyScale(g,2)"
   ]
  },
  {
   "cell_type": "markdown",
   "metadata": {},
   "source": [
    "**Note**: although these low-level methods are the safe and recommended one, they are not very convenient. For calculations without `uncertainties` one may use the following method:\n",
    "\n",
    "#### ELT method"
   ]
  },
  {
   "cell_type": "code",
   "execution_count": 9,
   "metadata": {
    "collapsed": false
   },
   "outputs": [
    {
     "data": {
      "text/latex": [
       "\\(\n",
       "\\def\\sp{^}\\def\\sb{_}\\def\\leqno(#1){}\n",
       "\\def\\erf{\\mathrm{erf}}\\def\\sinh{\\mathrm{sinh}}\n",
       "\\def\\zag#1#2{{{\\left.{#1}\\right|}\\over{\\left|{#2}\\right.}}}\n",
       "\\def\\csch{\\mathrm{csch}}\n",
       "\\require{color}\n",
       "\\)\n",
       "\n",
       "$$\n",
       "{{123.45}{\\ }±{\\ }{0.0}}{\\ }{{{m} \\sp {2}}} \n",
       "\\leqno(NIL)\n",
       "$$\n",
       "\n",
       "\n",
       "\\(\\\\[3ex]\\color{blue}\\scriptsize\\text{PhysQty(SIunit)}\\)\n"
      ],
      "text/plain": [
       "                 2\n",
       "   123.45 ± 0.0 m\n",
       "                                                        Type: PhysQty(SIunit)\n"
      ]
     },
     "execution_count": 9,
     "metadata": {},
     "output_type": "execute_result"
    }
   ],
   "source": [
    "area := 123.45 %m(2)"
   ]
  },
  {
   "cell_type": "code",
   "execution_count": 10,
   "metadata": {
    "collapsed": false
   },
   "outputs": [
    {
     "data": {
      "text/latex": [
       "\\(\n",
       "\\def\\sp{^}\\def\\sb{_}\\def\\leqno(#1){}\n",
       "\\def\\erf{\\mathrm{erf}}\\def\\sinh{\\mathrm{sinh}}\n",
       "\\def\\zag#1#2{{{\\left.{#1}\\right|}\\over{\\left|{#2}\\right.}}}\n",
       "\\def\\csch{\\mathrm{csch}}\n",
       "\\require{color}\n",
       "\\)\n",
       "\n",
       "$$\n",
       "{{56.777}{\\ }±{\\ }{0.0}}{\\ }{{{{{m} \\sp {1}}}{{kg} \\sp {1}}}{{s} \\sp {-2}}} \n",
       "\\leqno(NIL)\n",
       "$$\n",
       "\n",
       "\n",
       "\\(\\\\[3ex]\\color{blue}\\scriptsize\\text{PhysQty(SIunit)}\\)\n"
      ],
      "text/plain": [
       "                 1  1 - 2\n",
       "   56.777 ± 0.0 m kg s\n",
       "                                                        Type: PhysQty(SIunit)\n"
      ]
     },
     "execution_count": 10,
     "metadata": {},
     "output_type": "execute_result"
    }
   ],
   "source": [
    "force := 56.777 SIderived(\"newton\")"
   ]
  },
  {
   "cell_type": "code",
   "execution_count": 11,
   "metadata": {
    "collapsed": false
   },
   "outputs": [
    {
     "data": {
      "text/latex": [
       "\\(\n",
       "\\def\\sp{^}\\def\\sb{_}\\def\\leqno(#1){}\n",
       "\\def\\erf{\\mathrm{erf}}\\def\\sinh{\\mathrm{sinh}}\n",
       "\\def\\zag#1#2{{{\\left.{#1}\\right|}\\over{\\left|{#2}\\right.}}}\n",
       "\\def\\csch{\\mathrm{csch}}\n",
       "\\require{color}\n",
       "\\)\n",
       "\n",
       "$$\n",
       "{{0.4599189955\\_4475496152}{\\ }±{\\ }{0.0}}{\\ }{{{{{m} \\sp {-1}}}{{kg} \\sp \n",
       "{1}}}{{s} \\sp {-2}}} \n",
       "\\leqno(NIL)\n",
       "$$\n",
       "\n",
       "\n",
       "\\(\\\\[3ex]\\color{blue}\\scriptsize\\text{PhysQty(SIunit)}\\)\n"
      ],
      "text/plain": [
       "                                  - 1  1 - 2\n",
       "   0.4599189955_4475496152 ± 0.0 m   kg s\n",
       "                                                        Type: PhysQty(SIunit)\n"
      ]
     },
     "execution_count": 11,
     "metadata": {},
     "output_type": "execute_result"
    }
   ],
   "source": [
    "pressure := force / area"
   ]
  },
  {
   "cell_type": "code",
   "execution_count": 12,
   "metadata": {
    "collapsed": false
   },
   "outputs": [
    {
     "data": {
      "text/latex": [
       "\\(\n",
       "\\def\\sp{^}\\def\\sb{_}\\def\\leqno(#1){}\n",
       "\\def\\erf{\\mathrm{erf}}\\def\\sinh{\\mathrm{sinh}}\n",
       "\\def\\zag#1#2{{{\\left.{#1}\\right|}\\over{\\left|{#2}\\right.}}}\n",
       "\\def\\csch{\\mathrm{csch}}\n",
       "\\require{color}\n",
       "\\)\n",
       "\n",
       "$$\n",
       "\\left[\n",
       "{{56777} \\over {123450}}, \\: {{56777} \\over {123450}} \n",
       "\\right]\n",
       "\\leqno(NIL)\n",
       "$$\n",
       "\n",
       "\n",
       "\\(\\\\[3ex]\\color{blue}\\scriptsize\\text{RationalInterval}\\)\n"
      ],
      "text/plain": [
       "     56777  56777\n",
       "   [------,------]\n",
       "    123450 123450\n",
       "                                                       Type: RationalInterval\n"
      ]
     },
     "execution_count": 12,
     "metadata": {},
     "output_type": "execute_result"
    }
   ],
   "source": [
    "-- actually:\n",
    "pqtyInterval pressure"
   ]
  },
  {
   "cell_type": "code",
   "execution_count": 13,
   "metadata": {
    "collapsed": false
   },
   "outputs": [
    {
     "data": {
      "text/latex": [
       "\\(\n",
       "\\def\\sp{^}\\def\\sb{_}\\def\\leqno(#1){}\n",
       "\\def\\erf{\\mathrm{erf}}\\def\\sinh{\\mathrm{sinh}}\n",
       "\\def\\zag#1#2{{{\\left.{#1}\\right|}\\over{\\left|{#2}\\right.}}}\n",
       "\\def\\csch{\\mathrm{csch}}\n",
       "\\require{color}\n",
       "\\)\n",
       "\n",
       "$$\n",
       "0 \n",
       "\\leqno(NIL)\n",
       "$$\n",
       "\n",
       "\n",
       "\\(\\\\[3ex]\\color{blue}\\scriptsize\\text{Fraction(Integer)}\\)\n"
      ],
      "text/plain": [
       "   0\n",
       "                                                      Type: Fraction(Integer)\n"
      ]
     },
     "execution_count": 13,
     "metadata": {},
     "output_type": "execute_result"
    }
   ],
   "source": [
    "-- the interval represents a value without uncertainty, indeed we have\n",
    "len %"
   ]
  },
  {
   "cell_type": "markdown",
   "metadata": {},
   "source": [
    "At the moment this is the only method implemented to create a `PQTY` object without the main constructor. Possibly there will be a method to enter the so called `concise` form."
   ]
  },
  {
   "cell_type": "markdown",
   "metadata": {},
   "source": [
    "### Examples of basic operations"
   ]
  },
  {
   "cell_type": "code",
   "execution_count": 14,
   "metadata": {
    "collapsed": false
   },
   "outputs": [
    {
     "name": "stderr",
     "output_type": "stream",
     "text": [
      "TYPE-ERROR: \n",
      "  #<TYPE-ERROR expected-type: CONS datum: NIL>\n"
     ]
    },
    {
     "data": {
      "text/plain": []
     },
     "execution_count": 14,
     "metadata": {},
     "output_type": "execute_result"
    }
   ],
   "source": [
    "-- we cannot add different units\n",
    "force + g"
   ]
  },
  {
   "cell_type": "code",
   "execution_count": 15,
   "metadata": {
    "collapsed": false
   },
   "outputs": [
    {
     "data": {
      "text/latex": [
       "\\(\n",
       "\\def\\sp{^}\\def\\sb{_}\\def\\leqno(#1){}\n",
       "\\def\\erf{\\mathrm{erf}}\\def\\sinh{\\mathrm{sinh}}\n",
       "\\def\\zag#1#2{{{\\left.{#1}\\right|}\\over{\\left|{#2}\\right.}}}\n",
       "\\def\\csch{\\mathrm{csch}}\n",
       "\\require{color}\n",
       "\\)\n",
       "\n",
       "$$\n",
       "{{556.98237}{\\ }±{\\ }{2.83885}}{\\ }{{{{{m} \\sp {2}}}{{kg} \\sp {1}}}{{s} \\sp \n",
       "{-4}}} \n",
       "\\leqno(NIL)\n",
       "$$\n",
       "\n",
       "\n",
       "\\(\\\\[3ex]\\color{blue}\\scriptsize\\text{PhysQty(SIunit)}\\)\n"
      ],
      "text/plain": [
       "                        2  1 - 4\n",
       "   556.98237 ± 2.83885 m kg s\n",
       "                                                        Type: PhysQty(SIunit)\n"
      ]
     },
     "execution_count": 15,
     "metadata": {},
     "output_type": "execute_result"
    }
   ],
   "source": [
    "-- but we can multiply or divide them\n",
    "force*g"
   ]
  },
  {
   "cell_type": "code",
   "execution_count": 16,
   "metadata": {
    "collapsed": false
   },
   "outputs": [
    {
     "data": {
      "text/latex": [
       "\\(\n",
       "\\def\\sp{^}\\def\\sb{_}\\def\\leqno(#1){}\n",
       "\\def\\erf{\\mathrm{erf}}\\def\\sinh{\\mathrm{sinh}}\n",
       "\\def\\zag#1#2{{{\\left.{#1}\\right|}\\over{\\left|{#2}\\right.}}}\n",
       "\\def\\csch{\\mathrm{csch}}\n",
       "\\require{color}\n",
       "\\)\n",
       "\n",
       "$$\n",
       "{{5.7878160018\\_953878895}{\\ }±{\\ }{0.0294995718\\_7510391381}}{\\ }{{{kg} \\sp \n",
       "{1}}} \n",
       "\\leqno(NIL)\n",
       "$$\n",
       "\n",
       "\n",
       "\\(\\\\[3ex]\\color{blue}\\scriptsize\\text{PhysQty(SIunit)}\\)\n"
      ],
      "text/plain": [
       "                                                      1\n",
       "   5.7878160018_953878895 ± 0.0294995718_7510391381 kg\n",
       "                                                        Type: PhysQty(SIunit)\n"
      ]
     },
     "execution_count": 16,
     "metadata": {},
     "output_type": "execute_result"
    }
   ],
   "source": [
    "M:=force/g"
   ]
  },
  {
   "cell_type": "code",
   "execution_count": 17,
   "metadata": {
    "collapsed": false
   },
   "outputs": [
    {
     "data": {
      "text/latex": [
       "\\(\n",
       "\\def\\sp{^}\\def\\sb{_}\\def\\leqno(#1){}\n",
       "\\def\\erf{\\mathrm{erf}}\\def\\sinh{\\mathrm{sinh}}\n",
       "\\def\\zag#1#2{{{\\left.{#1}\\right|}\\over{\\left|{#2}\\right.}}}\n",
       "\\def\\csch{\\mathrm{csch}}\n",
       "\\require{color}\n",
       "\\)\n",
       "\n",
       "$$\n",
       "{-{5.7878160018\\_953878895}{\\ }±{\\ }{0.0294995718\\_7510391381}}{\\ }{{{kg} \\sp \n",
       "{1}}} \n",
       "\\leqno(NIL)\n",
       "$$\n",
       "\n",
       "\n",
       "\\(\\\\[3ex]\\color{blue}\\scriptsize\\text{PhysQty(SIunit)}\\)\n"
      ],
      "text/plain": [
       "                                                        1\n",
       "   - 5.7878160018_953878895 ± 0.0294995718_7510391381 kg\n",
       "                                                        Type: PhysQty(SIunit)\n"
      ]
     },
     "execution_count": 17,
     "metadata": {},
     "output_type": "execute_result"
    }
   ],
   "source": [
    "-- we can invert a quantity, even it makes no sense physically !?\n",
    "-M"
   ]
  },
  {
   "cell_type": "code",
   "execution_count": 18,
   "metadata": {
    "collapsed": false
   },
   "outputs": [
    {
     "data": {
      "text/latex": [
       "\\(\n",
       "\\def\\sp{^}\\def\\sb{_}\\def\\leqno(#1){}\n",
       "\\def\\erf{\\mathrm{erf}}\\def\\sinh{\\mathrm{sinh}}\n",
       "\\def\\zag#1#2{{{\\left.{#1}\\right|}\\over{\\left|{#2}\\right.}}}\n",
       "\\def\\csch{\\mathrm{csch}}\n",
       "\\require{color}\n",
       "\\)\n",
       "\n",
       "$$\n",
       "{{19.62}{\\ }±{\\ }{0.1}}{\\ }{{{{m} \\sp {1}}}{{s} \\sp {-2}}} \n",
       "\\leqno(NIL)\n",
       "$$\n",
       "\n",
       "\n",
       "\\(\\\\[3ex]\\color{blue}\\scriptsize\\text{PhysQty(SIunit)}\\)\n"
      ],
      "text/plain": [
       "                1 - 2\n",
       "   19.62 ± 0.1 m s\n",
       "                                                        Type: PhysQty(SIunit)\n"
      ]
     },
     "execution_count": 18,
     "metadata": {},
     "output_type": "execute_result"
    }
   ],
   "source": [
    "-- scaling (not 2*g !!)\n",
    "2 g"
   ]
  },
  {
   "cell_type": "code",
   "execution_count": 19,
   "metadata": {
    "collapsed": false
   },
   "outputs": [
    {
     "data": {
      "text/latex": [
       "\\(\n",
       "\\def\\sp{^}\\def\\sb{_}\\def\\leqno(#1){}\n",
       "\\def\\erf{\\mathrm{erf}}\\def\\sinh{\\mathrm{sinh}}\n",
       "\\def\\zag#1#2{{{\\left.{#1}\\right|}\\over{\\left|{#2}\\right.}}}\n",
       "\\def\\csch{\\mathrm{csch}}\n",
       "\\require{color}\n",
       "\\)\n",
       "\n",
       "$$\n",
       "{{0.0}{\\ }±{\\ }{0.2}}{\\ }{{{{m} \\sp {1}}}{{s} \\sp {-2}}} \n",
       "\\leqno(NIL)\n",
       "$$\n",
       "\n",
       "\n",
       "\\(\\\\[3ex]\\color{blue}\\scriptsize\\text{PhysQty(SIunit)}\\)\n"
      ],
      "text/plain": [
       "              1 - 2\n",
       "   0.0 ± 0.2 m s\n",
       "                                                        Type: PhysQty(SIunit)\n"
      ]
     },
     "execution_count": 19,
     "metadata": {},
     "output_type": "execute_result"
    }
   ],
   "source": [
    "-- recall g2 above\n",
    "g2 - 2 g"
   ]
  },
  {
   "cell_type": "code",
   "execution_count": 20,
   "metadata": {
    "collapsed": false
   },
   "outputs": [
    {
     "data": {
      "text/latex": [
       "\\(\n",
       "\\def\\sp{^}\\def\\sb{_}\\def\\leqno(#1){}\n",
       "\\def\\erf{\\mathrm{erf}}\\def\\sinh{\\mathrm{sinh}}\n",
       "\\def\\zag#1#2{{{\\left.{#1}\\right|}\\over{\\left|{#2}\\right.}}}\n",
       "\\def\\csch{\\mathrm{csch}}\n",
       "\\require{color}\n",
       "\\)\n",
       "\n",
       "$$\n",
       "1 \\over 5 \n",
       "\\leqno(NIL)\n",
       "$$\n",
       "\n",
       "\n",
       "\\(\\\\[3ex]\\color{blue}\\scriptsize\\text{Fraction(Integer)}\\)\n"
      ],
      "text/plain": [
       "   1\n",
       "   -\n",
       "   5\n",
       "                                                      Type: Fraction(Integer)\n"
      ]
     },
     "execution_count": 20,
     "metadata": {},
     "output_type": "execute_result"
    }
   ],
   "source": [
    "-- error usually is not zero when e<>0.\n",
    "pqtyError %"
   ]
  },
  {
   "cell_type": "code",
   "execution_count": 21,
   "metadata": {
    "collapsed": false
   },
   "outputs": [
    {
     "data": {
      "text/latex": [
       "\\(\n",
       "\\def\\sp{^}\\def\\sb{_}\\def\\leqno(#1){}\n",
       "\\def\\erf{\\mathrm{erf}}\\def\\sinh{\\mathrm{sinh}}\n",
       "\\def\\zag#1#2{{{\\left.{#1}\\right|}\\over{\\left|{#2}\\right.}}}\n",
       "\\def\\csch{\\mathrm{csch}}\n",
       "\\require{color}\n",
       "\\)\n",
       "\n",
       "$$\n",
       "{{0.2115254824\\_6289633415}{\\ }±{\\ }{0.0}}{\\ }{{{{{m} \\sp {-2}}}{{kg} \\sp \n",
       "{2}}}{{s} \\sp {-4}}} \n",
       "\\leqno(NIL)\n",
       "$$\n",
       "\n",
       "\n",
       "\\(\\\\[3ex]\\color{blue}\\scriptsize\\text{PhysQty(SIunit)}\\)\n"
      ],
      "text/plain": [
       "                                  - 2  2 - 4\n",
       "   0.2115254824_6289633415 ± 0.0 m   kg s\n",
       "                                                        Type: PhysQty(SIunit)\n"
      ]
     },
     "execution_count": 21,
     "metadata": {},
     "output_type": "execute_result"
    }
   ],
   "source": [
    "-- exponentiation\n",
    "pressure^2"
   ]
  },
  {
   "cell_type": "code",
   "execution_count": 22,
   "metadata": {
    "collapsed": false
   },
   "outputs": [
    {
     "data": {
      "text/latex": [
       "\\(\n",
       "\\def\\sp{^}\\def\\sb{_}\\def\\leqno(#1){}\n",
       "\\def\\erf{\\mathrm{erf}}\\def\\sinh{\\mathrm{sinh}}\n",
       "\\def\\zag#1#2{{{\\left.{#1}\\right|}\\over{\\left|{#2}\\right.}}}\n",
       "\\def\\csch{\\mathrm{csch}}\n",
       "\\require{color}\n",
       "\\)\n",
       "\n",
       "$$\n",
       "{{183027.911569433}{\\ }±{\\ }{0.0}}{\\ }{{{{{m} \\sp {3}}}{{kg} \\sp {3}}}{{s} \n",
       "\\sp {-6}}} \n",
       "\\leqno(NIL)\n",
       "$$\n",
       "\n",
       "\n",
       "\\(\\\\[3ex]\\color{blue}\\scriptsize\\text{PhysQty(SIunit)}\\)\n"
      ],
      "text/plain": [
       "                           3  3 - 6\n",
       "   183027.911569433 ± 0.0 m kg s\n",
       "                                                        Type: PhysQty(SIunit)\n"
      ]
     },
     "execution_count": 22,
     "metadata": {},
     "output_type": "execute_result"
    }
   ],
   "source": [
    "force^(3)"
   ]
  },
  {
   "cell_type": "code",
   "execution_count": 23,
   "metadata": {
    "collapsed": false
   },
   "outputs": [
    {
     "data": {
      "text/latex": [
       "\\(\n",
       "\\def\\sp{^}\\def\\sb{_}\\def\\leqno(#1){}\n",
       "\\def\\erf{\\mathrm{erf}}\\def\\sinh{\\mathrm{sinh}}\n",
       "\\def\\zag#1#2{{{\\left.{#1}\\right|}\\over{\\left|{#2}\\right.}}}\n",
       "\\def\\csch{\\mathrm{csch}}\n",
       "\\require{color}\n",
       "\\)\n",
       "\n",
       "$$\n",
       "{{0.0}{\\ }±{\\ }{0.0}}{\\ }{{{{{m} \\sp {1}}}{{kg} \\sp {1}}}{{s} \\sp {-2}}} \n",
       "\\leqno(NIL)\n",
       "$$\n",
       "\n",
       "\n",
       "\\(\\\\[3ex]\\color{blue}\\scriptsize\\text{PhysQty(SIunit)}\\)\n"
      ],
      "text/plain": [
       "              1  1 - 2\n",
       "   0.0 ± 0.0 m kg s\n",
       "                                                        Type: PhysQty(SIunit)\n"
      ]
     },
     "execution_count": 23,
     "metadata": {},
     "output_type": "execute_result"
    }
   ],
   "source": [
    "-- error is zero, because e=0.\n",
    "force  - force"
   ]
  },
  {
   "cell_type": "code",
   "execution_count": 24,
   "metadata": {
    "collapsed": false
   },
   "outputs": [
    {
     "data": {
      "text/latex": [
       "\\(\n",
       "\\def\\sp{^}\\def\\sb{_}\\def\\leqno(#1){}\n",
       "\\def\\erf{\\mathrm{erf}}\\def\\sinh{\\mathrm{sinh}}\n",
       "\\def\\zag#1#2{{{\\left.{#1}\\right|}\\over{\\left|{#2}\\right.}}}\n",
       "\\def\\csch{\\mathrm{csch}}\n",
       "\\require{color}\n",
       "\\)\n",
       "\n",
       "$$\n",
       "{{360.193288}{\\ }±{\\ }{0.0}}{\\ }{{{{{m} \\sp {1}}}{{kg} \\sp {1}}}{{s} \\sp \n",
       "{-2}}} \n",
       "\\leqno(NIL)\n",
       "$$\n",
       "\n",
       "\n",
       "\\(\\\\[3ex]\\color{blue}\\scriptsize\\text{PhysQty(SIunit)}\\)\n"
      ],
      "text/plain": [
       "                     1  1 - 2\n",
       "   360.193288 ± 0.0 m kg s\n",
       "                                                        Type: PhysQty(SIunit)\n"
      ]
     },
     "execution_count": 24,
     "metadata": {},
     "output_type": "execute_result"
    }
   ],
   "source": [
    "(6.344::Q) force"
   ]
  },
  {
   "cell_type": "code",
   "execution_count": 25,
   "metadata": {
    "collapsed": false
   },
   "outputs": [
    {
     "data": {
      "text/latex": [
       "\\(\n",
       "\\def\\sp{^}\\def\\sb{_}\\def\\leqno(#1){}\n",
       "\\def\\erf{\\mathrm{erf}}\\def\\sinh{\\mathrm{sinh}}\n",
       "\\def\\zag#1#2{{{\\left.{#1}\\right|}\\over{\\left|{#2}\\right.}}}\n",
       "\\def\\csch{\\mathrm{csch}}\n",
       "\\require{color}\n",
       "\\)\n",
       "\n",
       "$$\n",
       "{{30.8190239317\\_15871669}{\\ }±{\\ }{0.1570796326\\_7948966192}}{\\ }{{{{m} \\sp \n",
       "{1}}}{{s} \\sp {-2}}} \n",
       "\\leqno(NIL)\n",
       "$$\n",
       "\n",
       "\n",
       "\\(\\\\[3ex]\\color{blue}\\scriptsize\\text{PhysQty(SIunit)}\\)\n"
      ],
      "text/plain": [
       "                                                     1 - 2\n",
       "   30.8190239317_15871669 ± 0.1570796326_7948966192 m s\n",
       "                                                        Type: PhysQty(SIunit)\n"
      ]
     },
     "execution_count": 25,
     "metadata": {},
     "output_type": "execute_result"
    }
   ],
   "source": [
    "(%pi::Float::Q) g "
   ]
  },
  {
   "cell_type": "markdown",
   "metadata": {},
   "source": [
    "### Write your own functions\n",
    "This low level library covers almost everything such that one can write extensions. As an exmaple let us create a function `add_error` which adds an uncertainty to a given quantity and returns the result as a new instance.  "
   ]
  },
  {
   "cell_type": "code",
   "execution_count": 26,
   "metadata": {
    "collapsed": false
   },
   "outputs": [
    {
     "data": {
      "text/latex": [
       "\\(\n",
       "\\def\\sp{^}\\def\\sb{_}\\def\\leqno(#1){}\n",
       "\\def\\erf{\\mathrm{erf}}\\def\\sinh{\\mathrm{sinh}}\n",
       "\\def\\zag#1#2{{{\\left.{#1}\\right|}\\over{\\left|{#2}\\right.}}}\n",
       "\\def\\csch{\\mathrm{csch}}\n",
       "\\require{color}\n",
       "\\)\n",
       "\n",
       "\n",
       "\\(\\\\[3ex]\\color{blue}\\scriptsize\\text{Void}\\)\n"
      ],
      "text/plain": [
       "                                                                   Type: Void\n"
      ]
     },
     "execution_count": 26,
     "metadata": {},
     "output_type": "execute_result"
    }
   ],
   "source": [
    "addError(qty, err) ==\n",
    "    v:= pqtyValue qty\n",
    "    e:= (pqtyError qty)+err \n",
    "    u:= pqtyUnit qty\n",
    "    return pqty(v,e,u)\n",
    "\n",
    "  "
   ]
  },
  {
   "cell_type": "code",
   "execution_count": 27,
   "metadata": {
    "collapsed": false
   },
   "outputs": [
    {
     "name": "stdout",
     "output_type": "stream",
     "text": [
      "   Compiling function addError with type (PhysQty(SIunit),Fraction(\n",
      "      Integer)) -> PhysQty(SIunit) \n"
     ]
    },
    {
     "data": {
      "text/latex": [
       "\\(\n",
       "\\def\\sp{^}\\def\\sb{_}\\def\\leqno(#1){}\n",
       "\\def\\erf{\\mathrm{erf}}\\def\\sinh{\\mathrm{sinh}}\n",
       "\\def\\zag#1#2{{{\\left.{#1}\\right|}\\over{\\left|{#2}\\right.}}}\n",
       "\\def\\csch{\\mathrm{csch}}\n",
       "\\require{color}\n",
       "\\)\n",
       "\n",
       "$$\n",
       "{{0.4599189955\\_4475496152}{\\ }±{\\ }{0.3333333333\\_3333333333}}{\\ }{{{{{m} \n",
       "\\sp {-1}}}{{kg} \\sp {1}}}{{s} \\sp {-2}}} \n",
       "\\leqno(NIL)\n",
       "$$\n",
       "\n",
       "\n",
       "\\(\\\\[3ex]\\color{blue}\\scriptsize\\text{PhysQty(SIunit)}\\)\n"
      ],
      "text/plain": [
       "                                                      - 1  1 - 2\n",
       "   0.4599189955_4475496152 ± 0.3333333333_3333333333 m   kg s\n",
       "                                                        Type: PhysQty(SIunit)\n"
      ]
     },
     "execution_count": 27,
     "metadata": {},
     "output_type": "execute_result"
    }
   ],
   "source": [
    "addError(pressure,1/3)"
   ]
  },
  {
   "cell_type": "code",
   "execution_count": 28,
   "metadata": {
    "collapsed": false
   },
   "outputs": [
    {
     "data": {
      "text/latex": [
       "\\(\n",
       "\\def\\sp{^}\\def\\sb{_}\\def\\leqno(#1){}\n",
       "\\def\\erf{\\mathrm{erf}}\\def\\sinh{\\mathrm{sinh}}\n",
       "\\def\\zag#1#2{{{\\left.{#1}\\right|}\\over{\\left|{#2}\\right.}}}\n",
       "\\def\\csch{\\mathrm{csch}}\n",
       "\\require{color}\n",
       "\\)\n",
       "\n",
       "$$\n",
       "{{0.4599189955\\_4475496152}{\\ }±{\\ }{0.0}}{\\ }{{{{{m} \\sp {-1}}}{{kg} \\sp \n",
       "{1}}}{{s} \\sp {-2}}} \n",
       "\\leqno(NIL)\n",
       "$$\n",
       "\n",
       "\n",
       "\\(\\\\[3ex]\\color{blue}\\scriptsize\\text{PhysQty(SIunit)}\\)\n"
      ],
      "text/plain": [
       "                                  - 1  1 - 2\n",
       "   0.4599189955_4475496152 ± 0.0 m   kg s\n",
       "                                                        Type: PhysQty(SIunit)\n"
      ]
     },
     "execution_count": 28,
     "metadata": {},
     "output_type": "execute_result"
    }
   ],
   "source": [
    "-- comapre to pressure:\n",
    "pressure"
   ]
  },
  {
   "cell_type": "code",
   "execution_count": null,
   "metadata": {
    "collapsed": true
   },
   "outputs": [],
   "source": []
  }
 ],
 "metadata": {
  "kernelspec": {
   "display_name": "FriCAS",
   "language": "spad",
   "name": "ifricas"
  },
  "language_info": {
   "codemirror_mode": "spad",
   "mimetype": "text/x-spad",
   "name": "SPAD",
   "pygments_lexer": "spad",
   "version": "1.2.6"
  }
 },
 "nbformat": 4,
 "nbformat_minor": 0
}
